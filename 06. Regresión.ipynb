{
 "cells": [
  {
   "cell_type": "markdown",
   "metadata": {},
   "source": [
    "## 6. Regresión\n",
    "\n",
    "[Playlist de Ciencia de Datos en castellano](https://www.youtube.com/watch?v=iOJbOfPHXLg&list=PLLBUgWXdTBDg1Qgmwt4jKtVn9BWh5-zgy)\n",
    "[![Ciencia de Datos en Python](https://img1.wsimg.com/isteam/ip/aab852a2-7b1f-49c0-92af-9206f2ec6a75/7-0001.png/:/rs=w:1160,h:653)](https://www.youtube.com/watch?v=iOJbOfPHXLg&list=PLLBUgWXdTBDg1Qgmwt4jKtVn9BWh5-zgy \"Python Data Science\")\n",
    "\n",
    "Regresión es el proceso de obtener los parámetros de un modelo para ajustar una predicción `y` a valores medidos `z`. Tenemos variables independientes `x` como entradas del modelo para generar predicciones `y`. Para aprendizaje automático (machine learning), el objetivo es minimizar una función de pérdida ajustando los parámetros del modelo. Una función de pérdida común es la suma de los errores cuadrados entre los valores predichos `y` y valores medidos `z`.\n",
    "\n",
    "    x = Variable independiente o de entrada\n",
    "    y = Variable dependiente o de salida\n",
    "    z = Variable medida u observada (análoga con variable de salida)\n",
    "\n",
    "![temperature](https://apmonitor.com/che263/uploads/Begin_Python/temperature.png)\n",
    "\n",
    "El objetivo es minimizar una función de pérdida, como una suma de errores cuadrados entre los valores medidos y predichos:\n",
    "\n",
    "$Loss = \\sum_{i=1}^{n}\\left(y_i-z_i\\right)^2$\n",
    "\n",
    "donde `n` es el número de observaciones. La regresión requiere datos etiquetados (valores de salida) para el entrenamiento. Por otra parte, la clasificación puede ser supervisada (con `z` medidas, con etiquetas) o sin supervisión (con `z` medidas, sin etiquetas). Ejecuta el siguiente código y obtén 30 puntos de datos con variables de entrada `x` y variables de salida o medidas `z`."
   ]
  },
  {
   "cell_type": "code",
   "execution_count": null,
   "metadata": {},
   "outputs": [],
   "source": [
    "import numpy as np\n",
    "import pandas as pd\n",
    "import matplotlib.pyplot as plt\n",
    "%matplotlib inline\n",
    "n = 31\n",
    "x = np.linspace(0,3,n)\n",
    "z = np.array([1.89,-0.12,-0.32,2.11,-0.25,1.01,0.17,2.75,2.01,5.5,\\\n",
    "     0.87,3.31,2.29,2.73,3.67,3.92,4.29,5.27,3.85,4.26,\\\n",
    "     5.75,5.82,6.36,9.13,7.61,9.52,9.53,12.49,12.29,13.7,14.12])\n",
    "data = pd.DataFrame(np.vstack((x,z)).T,columns=['x','z'])\n",
    "plt.plot(x,z,'ro',label='Measured')\n",
    "plt.xlabel('x'); plt.ylabel('z'); plt.legend()\n",
    "plt.show()"
   ]
  },
  {
   "cell_type": "markdown",
   "metadata": {},
   "source": [
    "![idea](https://apmonitor.com/che263/uploads/Begin_Python/idea.png)\n",
    "\n",
    "### Regresión Lineal\n",
    "\n",
    "Hay muchas maneras de formular un modelo, como lineal, polinomial y no lineal. Un modelo lineal común es una línea con pendiente `a` y la intersección `b`.\n",
    "\n",
    "    y = a x + b\n",
    "    \n",
    "Un método simple para regresión lineal es utilizando `numpy` para ajustar `p=np.polyfit(x,y,1)` y evaluar el modelo `np.polyval(p,x)`. Ejecuta el siguiente código para determinar la pendiente y la intersección que minimizan la suma de los errores cuadrados (mínimos cuadrados) entre los valores predichos `y` con los medidos `z`."
   ]
  },
  {
   "cell_type": "code",
   "execution_count": null,
   "metadata": {},
   "outputs": [],
   "source": [
    "p1 = np.polyfit(x,z,1)\n",
    "\n",
    "print('Slope, Intercept:' + str(p1))\n",
    "\n",
    "plt.plot(x,z,'ro',label='Measured (z)')\n",
    "plt.plot(x,np.polyval(p1,x),'b-',label='Predicted (y)')\n",
    "plt.legend(); plt.show()"
   ]
  },
  {
   "cell_type": "markdown",
   "metadata": {},
   "source": [
    "El valore $R^2$ se puede calcular con los valores medidos (verdaderos) y los valores del modelo (predichos) para cualquier modelo de regresión, no solo modelos lineales.\n",
    "\n",
    "```python\n",
    "from sklearn.metrics import r2_score\n",
    "meas  = [3.0, 2.0, 1.9, 7.1]\n",
    "model = [2.5, 1.8, 2.0, 8.0]\n",
    "r2_score(meas, model)\n",
    "```\n",
    "\n",
    "Otra libería es `statsmodels` la cual realiza el análisis estándar de mínimos cuadrados ordinarios (MCO) con un buen informe resumido. La entrada `x` se aumenta con columnas `np.ones(n)` para obtener también la intersección\n",
    "\n",
    "```python\n",
    "xc = np.vstack((x,np.ones(n))).T\n",
    "```\n",
    "\n",
    "y esto también se lo logra con `xc=sm.add_constant(x)`."
   ]
  },
  {
   "cell_type": "code",
   "execution_count": null,
   "metadata": {},
   "outputs": [],
   "source": [
    "import statsmodels.api as sm\n",
    "xc = sm.add_constant(x)\n",
    "model = sm.OLS(z,xc).fit()\n",
    "predictions = model.predict(xc)\n",
    "model.summary()"
   ]
  },
  {
   "cell_type": "markdown",
   "metadata": {},
   "source": [
    "![expert](https://apmonitor.com/che263/uploads/Begin_Python/expert.png)\n",
    "\n",
    "### Actividad de Regresión Lineal\n",
    "\n",
    "Crea un modelo lineal con los siguientes datos:\n",
    "\n",
    "```python\n",
    "xr = [0.0,1.0,2.0,3.5,5.0]\n",
    "yr = [0.7,0.55,0.34,0.3,0.2]\n",
    "```\n",
    "\n",
    "Calcular el valor $R^2$ y mostrar los datos y el ajuste lineal en una gráfica."
   ]
  },
  {
   "cell_type": "code",
   "execution_count": null,
   "metadata": {},
   "outputs": [],
   "source": []
  },
  {
   "cell_type": "markdown",
   "metadata": {},
   "source": [
    "![debug](https://apmonitor.com/che263/uploads/Begin_Python/debug.png)\n",
    "\n",
    "### Regresión Polinomial\n",
    "\n",
    "Un modelo polinomial también puede ser cuadrático:\n",
    "\n",
    "    y = a x^2 + b x + c\n",
    "    \n",
    "Un modelo cuadrático es realmente un modelo lineal con dos entradas `x` y `z = x^2`.\n",
    "\n",
    "    y = a z + b x + c\n",
    "    \n",
    "Esto también se denomina regresión lineal múltiple cuando hay más de una entrada `y = f(x,z)` donde `f` es una función de entradas `x` y `z`."
   ]
  },
  {
   "cell_type": "code",
   "execution_count": null,
   "metadata": {},
   "outputs": [],
   "source": [
    "p2 = np.polyfit(x,z,2)\n",
    "print(p2)\n",
    "plt.plot(x,z,'ro',label='Measured (z)')\n",
    "plt.plot(x,np.polyval(p2,x),'b-',label='Predicted (y)')\n",
    "plt.legend(); plt.show()"
   ]
  },
  {
   "cell_type": "markdown",
   "metadata": {},
   "source": [
    "Hay más información sobre los coeficientes para el ajuste cuadrático si utilizas `statsmodels`."
   ]
  },
  {
   "cell_type": "code",
   "execution_count": null,
   "metadata": {},
   "outputs": [],
   "source": [
    "import statsmodels.api as sm\n",
    "xc = np.vstack((x**2,x,np.ones(n))).T\n",
    "model = sm.OLS(z,xc).fit()\n",
    "predictions = model.predict(xc)\n",
    "model.summary()"
   ]
  },
  {
   "cell_type": "markdown",
   "metadata": {},
   "source": [
    "![expert](https://apmonitor.com/che263/uploads/Begin_Python/expert.png)\n",
    "\n",
    "### Actividad de Regresión Polinomial\n",
    "\n",
    "Crear un modelo polinomial con los datos:\n",
    "\n",
    "```python\n",
    "xr = [0.0,1.0,2.0,3.5,5.0]\n",
    "yr = [1.7,1.45,1.05,0.4,0.2]\n",
    "```\n",
    "\n",
    "Indica el modelo polinomial en una gráfica."
   ]
  },
  {
   "cell_type": "code",
   "execution_count": null,
   "metadata": {},
   "outputs": [],
   "source": []
  },
  {
   "cell_type": "markdown",
   "metadata": {},
   "source": [
    "![list](https://apmonitor.com/che263/uploads/Begin_Python/list.png)\n",
    "\n",
    "### Regresión No Lineal\n",
    "\n",
    "Para regresión no lineal podemos utilizar una herramienta diferente como `curve_fit` que requiere la función `f` que retorna una predicción. También requiere los datos `x` y `z`. Los parámetros desconocidos `a` y `b` son ajustados para que la variable de salida coincida con la medida u observación `z`."
   ]
  },
  {
   "cell_type": "code",
   "execution_count": null,
   "metadata": {},
   "outputs": [],
   "source": [
    "from scipy.optimize import curve_fit\n",
    "def f(x,a,b):\n",
    "    return a * np.exp(b*x)\n",
    "p, pcov = curve_fit(f,x,z)\n",
    "print('p = '+str(p))\n",
    "plt.plot(x,z,'ro')\n",
    "plt.plot(x,f(x,*p),'b-')\n",
    "plt.show()"
   ]
  },
  {
   "cell_type": "code",
   "execution_count": null,
   "metadata": {},
   "outputs": [],
   "source": []
  },
  {
   "cell_type": "markdown",
   "metadata": {},
   "source": [
    "![expert](https://apmonitor.com/che263/uploads/Begin_Python/expert.png)\n",
    "\n",
    "### Actividad de Regresión No Lineal\n",
    "\n",
    "Crea un modelo no lineal con los datos:\n",
    "\n",
    "$y = a \\ln\\left( b \\, x \\right)$\n",
    "\n",
    "```python\n",
    "xr = [0.1,1.0,2.0,3.5,5.0]\n",
    "yr = [0.2,0.4,1.05,1.45,1.7]\n",
    "```\n",
    "\n",
    "Muestra el modelo no lineal en una gráfica."
   ]
  },
  {
   "cell_type": "code",
   "execution_count": null,
   "metadata": {},
   "outputs": [],
   "source": []
  },
  {
   "cell_type": "markdown",
   "metadata": {},
   "source": [
    "![exercise](https://apmonitor.com/che263/uploads/Begin_Python/exercise.png)\n",
    "\n",
    "### Aprendizaje Automático o Machine Learning\n",
    "\n",
    "El aprendizaje automático corresponde a algoritmos de computador y modelos estadísticos que se basan en patrones e inferencias. Estos algoritmos realizan una tarea específica sin instrucciones explícitas. Los modelos de regresión con aprendizaje automático pueden ser tan simples como una regresión lineal o tan complejos como el aprendizaje profundo (deep learning). Este tutorial indica varios métodos de regresión con `scikit-learn`.\n",
    "\n",
    "#### Generar Datos\n",
    "\n",
    "Para hacer que la gráfica sea interactiva, agregua el comando: \n",
    "\n",
    "```python\n",
    "%matplotlib notebook\n",
    "```"
   ]
  },
  {
   "cell_type": "code",
   "execution_count": null,
   "metadata": {},
   "outputs": [],
   "source": [
    "%matplotlib inline\n",
    "from mpl_toolkits.mplot3d import Axes3D\n",
    "\n",
    "import math\n",
    "def f(x,y):\n",
    "    return 2*math.cos(x)*y + x*math.cos(y) - 3*x*y\n",
    "\n",
    "n = 500\n",
    "x = (np.random.rand(n)-0.5)*2.0\n",
    "y = (np.random.rand(n)-0.5)*2.0\n",
    "z = np.empty_like(x)\n",
    "for i in range(n):\n",
    "    z[i] = f(x[i],y[i])\n",
    "data = pd.DataFrame(np.vstack((x,y,z)).T,columns=['x','y','z'])\n",
    "\n",
    "fig = plt.figure()\n",
    "ax = fig.add_subplot(111, projection='3d')\n",
    "ax.scatter(x,y,z,c=z,cmap='plasma')\n",
    "plt.show()"
   ]
  },
  {
   "cell_type": "markdown",
   "metadata": {},
   "source": [
    "#### Escalamiento de Datos o Normalización\n",
    "\n",
    "Los datos se pueden escalar con un \"Standard Scalar\" o simplemente se dejan sin escalar porque los valores (`x`, `y`, `z`) ya están cerca de los rangos aceptables. Si se desea escalar, se lo puede hacer con algunas líneas de código adicionales y cambios en los gráficos.\n",
    "\n",
    "```python\n",
    "from sklearn.preprocessing import StandardScaler\n",
    "s = StandardScaler()\n",
    "ds = s.fit_transform(data)\n",
    "ds = pd.DataFrame(ds,columns=data.columns)\n",
    "```\n",
    "\n",
    "Los datos se dividen en conjuntos de entrenamiento y prueba con `train_test_split`."
   ]
  },
  {
   "cell_type": "code",
   "execution_count": null,
   "metadata": {},
   "outputs": [],
   "source": [
    "# sin escalado de datos\n",
    "ds = data\n",
    "\n",
    "# división de datos entre conjuntos de entrenamiento y prueba\n",
    "from sklearn.model_selection import train_test_split\n",
    "train,test = train_test_split(ds, test_size=0.2, shuffle=True)"
   ]
  },
  {
   "cell_type": "markdown",
   "metadata": {},
   "source": [
    "#### Función para graficar\n",
    "\n",
    "Ejecuta el siguiente código para que cada uno de los modelos de regresión se entrenen y se muestren en un gráfico de superficie y de dispersión 3D."
   ]
  },
  {
   "cell_type": "code",
   "execution_count": null,
   "metadata": {},
   "outputs": [],
   "source": [
    "def fit(method):\n",
    "    # crear puntos para trazar la superficie\n",
    "    xp = np.arange(-1, 1, 0.1)\n",
    "    yp = np.arange(-1, 1, 0.1)\n",
    "    XP, YP = np.meshgrid(xp, yp)\n",
    "\n",
    "    model = method.fit(train[['x','y']],train['z'])\n",
    "    zp = method.predict(np.vstack((XP.flatten(),YP.flatten())).T)\n",
    "    ZP = zp.reshape(np.size(XP,0),np.size(XP,1))\n",
    "\n",
    "    r2 = method.score(test[['x','y']],test['z'])\n",
    "    print('R^2: ' + str(r2))\n",
    "\n",
    "    fig = plt.figure()\n",
    "    ax = fig.add_subplot(111, projection='3d')\n",
    "    ax.scatter(ds['x'],ds['y'],ds['z'],c=z,cmap='plasma',label='data')\n",
    "    ax.plot_surface(XP, YP, ZP, cmap='coolwarm',alpha=0.7,\n",
    "                    linewidth=0, antialiased=False)\n",
    "    plt.show()\n",
    "    return"
   ]
  },
  {
   "cell_type": "markdown",
   "metadata": {},
   "source": [
    "#### Regresión Lineal con `sklearn`\n",
    "\n",
    "El regresor más simple es un modelo lineal. Este modelo no funciona muy bien con los datos no lineales, pero predice la pendiente de los datos."
   ]
  },
  {
   "cell_type": "code",
   "execution_count": null,
   "metadata": {
    "scrolled": false
   },
   "outputs": [],
   "source": [
    "from sklearn import linear_model\n",
    "lm = linear_model.LinearRegression()\n",
    "fit(lm)"
   ]
  },
  {
   "cell_type": "markdown",
   "metadata": {},
   "source": [
    "#### K-Nearest Neighbors"
   ]
  },
  {
   "cell_type": "code",
   "execution_count": null,
   "metadata": {
    "scrolled": true
   },
   "outputs": [],
   "source": [
    "from sklearn.neighbors import KNeighborsRegressor\n",
    "knn = KNeighborsRegressor(n_neighbors=2)\n",
    "fit(knn)"
   ]
  },
  {
   "cell_type": "markdown",
   "metadata": {},
   "source": [
    "#### Vectores de Soporte Regresión o Support Vector Regressor"
   ]
  },
  {
   "cell_type": "code",
   "execution_count": null,
   "metadata": {
    "scrolled": true
   },
   "outputs": [],
   "source": [
    "from sklearn import svm\n",
    "s = svm.SVR(gamma='scale')\n",
    "fit(s)"
   ]
  },
  {
   "cell_type": "markdown",
   "metadata": {},
   "source": [
    "#### Perceptrón Multicapa (Red Neuronal)"
   ]
  },
  {
   "cell_type": "code",
   "execution_count": null,
   "metadata": {},
   "outputs": [],
   "source": [
    "from sklearn.neural_network import MLPRegressor\n",
    "nn = MLPRegressor(hidden_layer_sizes=(3), \n",
    "                  activation='tanh', solver='lbfgs')\n",
    "fit(nn)"
   ]
  },
  {
   "cell_type": "markdown",
   "metadata": {},
   "source": [
    "![expert](https://apmonitor.com/che263/uploads/Begin_Python/expert.png)\n",
    "\n",
    "### Actividad de Modelos de Regresión\n",
    "\n",
    "Encuentra otro [regresor en scikit-learn](https://scikit-learn.org/stable/supervised_learning.html) como *Decision Tree Regressor* o *Passive Agressive Regressor*. Entrena y prueba el regresor con la función `fit()` de este Jupyter Notebook como se indica a continuación:\n",
    "\n",
    "*Decision Tree Regressor*\n",
    "\n",
    "```python\n",
    "from sklearn import tree\n",
    "dt = tree.DecisionTreeRegressor()\n",
    "fit(dt)\n",
    "```\n",
    "\n",
    "*Passive Aggressive Regressor*\n",
    "\n",
    "```python\n",
    "from sklearn.linear_model import PassiveAggressiveRegressor\n",
    "par = PassiveAggressiveRegressor(max_iter=2000,tol=1e-3)\n",
    "fit(par)\n",
    "```\n",
    "\n",
    "Cambia las opciones del regresor si puede mejorar el valor $R^2$ de tal forma que `PassiveAggressiveRegressor` tenga `max_iter=2000`."
   ]
  },
  {
   "cell_type": "code",
   "execution_count": null,
   "metadata": {},
   "outputs": [],
   "source": []
  },
  {
   "cell_type": "markdown",
   "metadata": {},
   "source": [
    "![gekko](https://apmonitor.com/che263/uploads/Begin_Python/gekko.png)\n",
    "\n",
    "### Aprendizaje profundo\n",
    "\n",
    "El aprendizaje profundo (Deep Learning) es una regresión con una red neuronal de múltiples capas. La regresión con aprendizaje profundo tiene paquetes especializados como [Tensorflow](https://www.tensorflow.org) diseñado para datos a gran escala, o [Gekko](https://gekko.readthedocs.io/en/latest/) diseñado para estructuras de modelos configurables. A continuación se muestra un ejemplo utilizando Gekko, para más información mira el [tutorial de Deep Learning usando Gekko en inglés](https://apmonitor.com/do/index.php/Main/DeepLearning).  Este mismo ejemplo con Keras (Tensorflow) también se muestra en el enlace."
   ]
  },
  {
   "cell_type": "code",
   "execution_count": null,
   "metadata": {},
   "outputs": [],
   "source": [
    "from gekko import brain\n",
    "\n",
    "x = np.linspace(0.0,2*np.pi)\n",
    "y = np.sin(x)\n",
    "\n",
    "b = brain.Brain(remote=False)\n",
    "b.input_layer(1)\n",
    "b.layer(linear=2)\n",
    "b.layer(tanh=2)\n",
    "b.layer(linear=2)\n",
    "b.output_layer(1)\n",
    "b.learn(x,y,disp=False)      \n",
    "\n",
    "xp = np.linspace(-2*np.pi,4*np.pi,100)\n",
    "yp = b.think(xp)  \n",
    "\n",
    "plt.figure()\n",
    "plt.plot(x,y,'bo',label='medila (etiqueta)')\n",
    "plt.plot(xp,yp[0],'r-',label='modelo')\n",
    "plt.legend(); plt.show()"
   ]
  },
  {
   "cell_type": "markdown",
   "metadata": {},
   "source": [
    "![expert](https://apmonitor.com/che263/uploads/Begin_Python/expert.png)\n",
    "\n",
    "### Actividad con el TCLab\n",
    "\n",
    "### Guardar Datos de Temperatura\n",
    "\n",
    "![connections](https://apmonitor.com/che263/uploads/Begin_Python/connections.png)\n",
    "\n",
    "Pon el calentador 1 en 80% con `lab.Q1(80)` y el calentador 2 a 60% con `lab.Q1(60)`. Registra las temperaturas (`lab.T1` y `lab.T2`) cada 0.5 segundos (utiliza `time.sleep(0.5)`) durante 30 segundos. Almacene los valores de tiempo, temperatura 1 y temperatura 2 en `numpy` arrays. Utiliza __time.time()__ para obtener la hora actual en segundos."
   ]
  },
  {
   "cell_type": "code",
   "execution_count": null,
   "metadata": {},
   "outputs": [],
   "source": []
  },
  {
   "cell_type": "markdown",
   "metadata": {},
   "source": [
    "![expert](https://apmonitor.com/che263/uploads/Begin_Python/expert.png)\n",
    "\n",
    "### Regresión Lineal\n",
    "\n",
    "Crea un modelo lineal para `T2` con regresión. Reporta el valor $R^2$. Agrega la línea de regresión como una línea de color negro a un gráfico con la medida `T2` como círculos azules. Agregue etiquetas apropiadas a la gráfica."
   ]
  },
  {
   "cell_type": "code",
   "execution_count": null,
   "metadata": {},
   "outputs": [],
   "source": []
  },
  {
   "cell_type": "markdown",
   "metadata": {},
   "source": [
    "![expert](https://apmonitor.com/che263/uploads/Begin_Python/expert.png)\n",
    "\n",
    "### Regresión no Lineal\n",
    "\n",
    "Cree una regresión no lineal para `T1`. Ajusta los datos $T_1$ con:\n",
    "\n",
    "1. un modelo no lineal de la forma $T_1 = a + b \\exp{(c \\, t)}$ donde `a`, `b`, y `c` son parámetros de ajuste.\n",
    "2. un modelo no lineal que utiliza un regresor en `scikit-learn`, `keras (tensorflow)`, o `gekko`\n",
    "\n",
    "Reporta el valor $R^2$ para cada uno."
   ]
  },
  {
   "cell_type": "code",
   "execution_count": null,
   "metadata": {},
   "outputs": [],
   "source": []
  }
 ],
 "metadata": {
  "kernelspec": {
   "display_name": "Python 3",
   "language": "python",
   "name": "python3"
  },
  "language_info": {
   "codemirror_mode": {
    "name": "ipython",
    "version": 3
   },
   "file_extension": ".py",
   "mimetype": "text/x-python",
   "name": "python",
   "nbconvert_exporter": "python",
   "pygments_lexer": "ipython3",
   "version": "3.7.6"
  }
 },
 "nbformat": 4,
 "nbformat_minor": 2
}
