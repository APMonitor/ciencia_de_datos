{
 "cells": [
  {
   "cell_type": "markdown",
   "metadata": {},
   "source": [
    "### Encuesta\n",
    "\n",
    "Este trabajo es parte de una investigación que busca cuantificar el impacto de integrar Hardware (TCLab) con Software (Programación en Python).\n",
    "\n",
    "Si ya realizaste la encuesta continúa a **2. Importar y Exportar Datos**. De lo contrario, por favor completa la siguiente encuesta de **INICIO de Curso**.\n",
    "\n",
    "[![Inicio](https://img1.wsimg.com/isteam/ip/aab852a2-7b1f-49c0-92af-9206f2ec6a75/Inicio.png/:/rs=w:1440,h:1440)](https://forms.office.com/Pages/ResponsePage.aspx?id=r4yvt9iDREaFrjF8VFIjwUHkKiCq1wxFstxAwkoFiilUQVZDTk5MM0ZXOTdONjc1SFlZVTQ3VlJMNi4u)\n",
    "\n",
    "##2. Importar y Exportar Datos\n",
    "\n",
    "[Playlist de Ciencia de Datos en castellano](https://www.youtube.com/watch?v=H05A_rftppU&list=PLLBUgWXdTBDg1Qgmwt4jKtVn9BWh5-zgy)\n",
    "[![Ciencia de Datos en Python](https://img1.wsimg.com/isteam/ip/aab852a2-7b1f-49c0-92af-9206f2ec6a75/3-0002.png/:/rs=w:1160,h:653)](https://www.youtube.com/watch?v=H05A_rftppU&list=PLLBUgWXdTBDg1Qgmwt4jKtVn9BWh5-zgy \"Python Data Science\")\n",
    "\n",
    "Python tiene funciones para leer, crear, o borrar archivos. Los pasos de alto nivel para aplicaciones de Ciencia de Datos consisten en importar datos, analizarlos y exportar los resultados.\n",
    "\n",
    "### `open` para leer o escribir\n",
    "\n",
    "Una función básica para trabajar con archivos es `open(filename,mode)`. El `filename` es un \"string\" (caracteres) que identifica el archivo a abrir y `mode` indica cómo se debe abrir el archivo: `'r'` para leer, `'a'` para añadir (append), `'w'` para escribir, y `'x'` para crear (devuelve un error si el archivo existe). También puede especificar si el archivo debe manejarse como un archivo de texto `'t'` o binario `'b'`. Los valores predeterminados son `'rt'` para leer un archivo en modo texto."
   ]
  },
  {
   "cell_type": "code",
   "execution_count": null,
   "metadata": {},
   "outputs": [],
   "source": [
    "# escribir un archivo de prueba con un mensaje\n",
    "f = open('02-file.txt','w')\n",
    "f.write('This is a test file')\n",
    "f.close()\n",
    "\n",
    "import os\n",
    "print('File stored in: ' + os.getcwd())\n",
    "\n",
    "# leer e imprimir el contenido del archivo\n",
    "f = open('02-file.txt')\n",
    "print(f.read())\n",
    "f.close()"
   ]
  },
  {
   "cell_type": "markdown",
   "metadata": {},
   "source": [
    "![idea](https://apmonitor.com/che263/uploads/Begin_Python/idea.png)\n",
    "\n",
    "### Escribir archivos de datos\n",
    "\n",
    "Un archivo de datos común es el \"Comma Separated Value\" (CSV) -valor separado por coma- donde las entradas están delimitadas (separadas) por una coma. Hay algunos datos `m` que nos gustaría escribir en un archivo CSV con encabezados en `clist`. Este ejemplo muestra cómo escribir el archivo CSV con varios módulos.\n",
    "\n",
    "```\n",
    "x,y,z\n",
    "1,2,3\n",
    "4,5,6\n",
    "7,8,9\n",
    "```\n",
    "\n",
    "Después de ejecutar cada celda, abrimos el archivo en su directorio de ejecución con Excel o un editor de texto.\n",
    "\n",
    "#### (Abrir) `open` y el módulo `csv`\n",
    "\n",
    "El comando `with` cierra automáticamente el archivo cuando se completan los comandos dentro del bloque. El `newline=''` es necesario solamente para Windows. La función `writerow` escribe una fila del archivo CSV."
   ]
  },
  {
   "cell_type": "code",
   "execution_count": null,
   "metadata": {},
   "outputs": [],
   "source": [
    "clist = ['x','y','z']\n",
    "m = [[1,2,3],\\\n",
    "     [4,5,6],\\\n",
    "     [7,8,9]]\n",
    "\n",
    "import csv\n",
    "with open('02-data1.csv',mode='w',newline='') as f:\n",
    "    cw = csv.writer(f)\n",
    "    cw.writerow(clist)\n",
    "    for i in range(len(m)):\n",
    "        cw.writerow(m[i])"
   ]
  },
  {
   "cell_type": "markdown",
   "metadata": {},
   "source": [
    "#### escribir en CSV con `numpy`\n",
    "\n",
    "La librería numérica de Python `numpy` es utilizada a lo largo de este curso. La función `np.savetxt` requiere el nombre del archivo, los datos `m`, el tipo de delimitador `,`, y el encabezado. Si `comments=''` es omitido entonces el encabezado va a tener un signo `#` enfrente."
   ]
  },
  {
   "cell_type": "code",
   "execution_count": null,
   "metadata": {},
   "outputs": [],
   "source": [
    "import numpy as np\n",
    "np.savetxt('02-data2.csv',m,delimiter=',',comments='',header='x,y,z')"
   ]
  },
  {
   "cell_type": "markdown",
   "metadata": {},
   "source": [
    "#### escribir en CSV con `pandas`\n",
    "\n",
    "El módulo `pandas` requiere que la data este con la estructura `DataFrame` para escritura."
   ]
  },
  {
   "cell_type": "code",
   "execution_count": null,
   "metadata": {},
   "outputs": [],
   "source": [
    "import pandas as pd\n",
    "df = pd.DataFrame(m,columns=clist)\n",
    "df.to_csv('02-data3.csv',index=False)"
   ]
  },
  {
   "cell_type": "markdown",
   "metadata": {},
   "source": [
    "#### `pandas` escribe en XLSX y JSON\n",
    "\n",
    "`pandas` también puede escribir otros archivos como json o Excel. Puede que necesites instalar openpyxl para escribir el archivo Excel. Puedes hacer esto en una celda anotando `!pip install openpyxl` e incluir `--user` si no tienes privilegios de administrador.Es posible que debas reiniciar el kernel del IPython notebook antes de que pip instale la librería `openpyxl`."
   ]
  },
  {
   "cell_type": "code",
   "execution_count": null,
   "metadata": {},
   "outputs": [],
   "source": [
    "df.to_json('02-data3.json',orient='table',index=False)\n",
    "df.to_excel('02-data3.xlsx',index=False)"
   ]
  },
  {
   "cell_type": "markdown",
   "metadata": {},
   "source": [
    "![expert](https://apmonitor.com/che263/uploads/Begin_Python/expert.png)\n",
    "\n",
    "### Actividad de Escritura\n",
    "\n",
    "Utiliza `numpy` para crear `51` valores igualmente espaciados para `x` entre `0` y `100`. Calcular `y=x**2` y `z=x**3` que se derivan de `x`. Almacena `x`, `y`, y `z` en un archivo CSV con los encabezados del archivo `02-test.csv`."
   ]
  },
  {
   "cell_type": "code",
   "execution_count": null,
   "metadata": {},
   "outputs": [],
   "source": []
  },
  {
   "cell_type": "markdown",
   "metadata": {},
   "source": [
    "![idea](https://apmonitor.com/che263/uploads/Begin_Python/idea.png)\n",
    "\n",
    "### Lee Archivos de Datos\n",
    "\n",
    "Al igual que para escribir archivos CSV, existen librerías para leer archivos de datos.\n",
    "\n",
    "#### Utiliza `numpy` para leer un CSV\n",
    "\n",
    "La función `np.loadtxt` lee datos de un archivo CSV con la opción `skiprows=1` para omitir la fila del encabezado. Numpy no etiqueta las filas o columnas y solo almacena los valores CSV."
   ]
  },
  {
   "cell_type": "code",
   "execution_count": null,
   "metadata": {},
   "outputs": [],
   "source": [
    "data = np.loadtxt('02-data1.csv',delimiter=',',skiprows=1)\n",
    "print(data)"
   ]
  },
  {
   "cell_type": "markdown",
   "metadata": {},
   "source": [
    "#### Utiliza `pandas` para leer un CSV\n",
    "\n",
    "La función `pd.read_csv` lee datos de un archivo CSV incluyendo la fila del encabezado. Las funciones `data.head()` y `data.tail()` imprime los primeros o últimos 5 valores, respectivamente."
   ]
  },
  {
   "cell_type": "code",
   "execution_count": null,
   "metadata": {},
   "outputs": [],
   "source": [
    "data = pd.read_csv('02-data1.csv')\n",
    "data.head()"
   ]
  },
  {
   "cell_type": "markdown",
   "metadata": {},
   "source": [
    "![expert](https://apmonitor.com/che263/uploads/Begin_Python/expert.png)\n",
    "\n",
    "### Actividad de Leer\n",
    "\n",
    "Utiliza `pandas` para leer el archivo `02-test.csv` creado anteriormente. Muestra las primeras 5 filas del archivo."
   ]
  },
  {
   "cell_type": "code",
   "execution_count": null,
   "metadata": {},
   "outputs": [],
   "source": []
  },
  {
   "cell_type": "markdown",
   "metadata": {},
   "source": [
    "![idea](https://apmonitor.com/che263/uploads/Begin_Python/idea.png)\n",
    "\n",
    "### Eliminar Archivos de Datos\n",
    "\n",
    "También es posible eliminar archivos usando la librería `os` (operating system) de sistema operativo.\n",
    "\n",
    "```python\n",
    "import os\n",
    "os.remove('02-data1.csv')\n",
    "```\n",
    "\n",
    "El módulo `glob` genera una lista de archivos que inician con `02-data` y terminan con `.csv`. Utiliza el carácter comodín `*` para seleccionar cualquier archivo que coincida con la primera y la última parte.\n",
    "\n",
    "```python\n",
    "['02-data1.csv', '02-data2.csv', '02-data3.csv']\n",
    "```\n",
    "\n",
    "Si la primera letra de la respuesta del usuario es `y`entonces borra estos archivos."
   ]
  },
  {
   "cell_type": "code",
   "execution_count": null,
   "metadata": {},
   "outputs": [],
   "source": [
    "import os\n",
    "import glob\n",
    "filelist = glob.glob('02-data*.csv')\n",
    "\n",
    "if filelist==[]:\n",
    "    print('No files to delete')\n",
    "    ans='no'\n",
    "else:\n",
    "    ans = input('Delete files '+str(filelist)+'? ')\n",
    "\n",
    "if ans[0].lower()=='y':\n",
    "    for f in filelist:\n",
    "        os.remove(f)"
   ]
  },
  {
   "cell_type": "markdown",
   "metadata": {},
   "source": [
    "![expert](https://apmonitor.com/che263/uploads/Begin_Python/expert.png)\n",
    "\n",
    "### Actividad de Borrar\n",
    "\n",
    "Elimina el archivo `02-test.csv` utilizando Python."
   ]
  },
  {
   "cell_type": "code",
   "execution_count": null,
   "metadata": {},
   "outputs": [],
   "source": []
  },
  {
   "cell_type": "markdown",
   "metadata": {},
   "source": [
    "![expert](https://apmonitor.com/che263/uploads/Begin_Python/expert.png)\n",
    "\n",
    "### Actividad con el TCLab\n",
    "\n",
    "![connections](https://apmonitor.com/che263/uploads/Begin_Python/connections.png)\n",
    "\n",
    "Escribir el archivo de datos `02-tclab.csv` con 5 columnas que incluyan tiempo en segundos (`t`), niveles de calentador (`Q1` y `Q2`), y temperaturas (`lab.T1` y `lab.T2`). Incluye una fila de datos cada segundo durante 20 segundos. El script de inicio solo imprime esos valores en la pantalla, pero también deben guardarse en un archivo."
   ]
  },
  {
   "cell_type": "code",
   "execution_count": null,
   "metadata": {},
   "outputs": [],
   "source": [
    "import tclab\n",
    "import time\n",
    "n = 20\n",
    "Q1 = 30; Q2 = 70\n",
    "with tclab.TCLab() as lab:\n",
    "    lab.Q1(Q1); lab.Q2(Q2)\n",
    "    with open('02-tclab.csv',mode='w',newline='') as f:\n",
    "        cw = csv.writer(f)\n",
    "        cw.writerow(['t','Q1','Q2','T1','T2'])\n",
    "        # print('t Q1 Q2 T1   T2')\n",
    "        for t in range(n):\n",
    "            print(t,Q1,Q2,lab.T1,lab.T2)\n",
    "            cw.writerow([t,Q1,Q2,lab.T1,lab.T2])\n",
    "            time.sleep(1)"
   ]
  },
  {
   "cell_type": "markdown",
   "metadata": {},
   "source": [
    "Lee el archivo `02-tclab.csv` e imprima las primeras 5 filas. Si no tienes el TCLab, lee el archivo de datos del `url` utilizando `data=pd.read_csv(url)`\n",
    "\n",
    "```python\n",
    "# lee este archivo si no tienes un TCLab\n",
    "url = 'http://apmonitor.com/pdc/uploads/Main/tclab_data2.txt'\n",
    "```"
   ]
  },
  {
   "cell_type": "code",
   "execution_count": null,
   "metadata": {},
   "outputs": [],
   "source": []
  }
 ],
 "metadata": {
  "kernelspec": {
   "display_name": "Python 3",
   "language": "python",
   "name": "python3"
  },
  "language_info": {
   "codemirror_mode": {
    "name": "ipython",
    "version": 3
   },
   "file_extension": ".py",
   "mimetype": "text/x-python",
   "name": "python",
   "nbconvert_exporter": "python",
   "pygments_lexer": "ipython3",
   "version": "3.7.6"
  }
 },
 "nbformat": 4,
 "nbformat_minor": 2
}
