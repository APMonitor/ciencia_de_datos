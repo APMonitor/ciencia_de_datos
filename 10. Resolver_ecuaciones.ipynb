{
 "cells": [
  {
   "cell_type": "markdown",
   "metadata": {},
   "source": [
    "## 10. Resolver Ecuaciones\n",
    "\n",
    "[Playlist de Ciencia de Datos en castellano](https://www.youtube.com/playlist?list=PLjyvn6Y1kpbEmRY4-ELeRA80ZywV7Xd67)\n",
    "[![Python Data Science](https://img1.wsimg.com/isteam/ip/aab852a2-7b1f-49c0-92af-9206f2ec6a75/11-0001.png/:/rs=w:1280,h:720)](https://www.youtube.com/watch?v=c40z75JnT44&list=PLLBUgWXdTBDg1Qgmwt4jKtVn9BWh5-zgy \"Python Data Science\")\n",
    "\n",
    "Las ecuaciones son fundamentales en Ciencia de Datos. Permiten convertir datos en información procesable mediante el desarrollo de expresiones matemáticas que describen sistemas físicos. Algunas expresiones matemáticas son simples y pueden calcularse secuencialmente, por ejemplo:\n",
    "\n",
    "$x=1 \\quad y=x^2+2x-4$\n",
    "\n",
    "La solución es $x=1$, $y=1+2-4=-1$. \n",
    "\n",
    "Considera el caso donde $x$ también depende de $y$.\n",
    "\n",
    "$x=y \\quad y=x^2+2x-4$\n",
    "\n",
    "Hay dos soluciones que se calculan a partir de la fórmula cuadrática $y=\\frac{-b\\pm\\sqrt{b^2-4ac}}{2a}$\n",
    "\n",
    "$0=y^2+(2y-y)-4$, \n",
    "\n",
    "$\\quad y^2+y-4 = 0$,    con $a=1$, $b=1$ y $c=-4$.\n",
    "\n",
    "$y = \\frac{-1 \\pm \\sqrt{17}}{2} = {1.56,-2.56}$\n",
    "\n",
    "Hay dos métodos para resolver este problema. El primero es una **solución numérica**, donde la computadora usa métodos de prueba y error para hallar la solución. Se utilizan métodos numéricos cuando hay un gran número de ecuaciones y no hay solución analítica. El segundo método es una **solución simbólica** que genera una solución exacta.\n",
    "\n",
    "![idea](https://apmonitor.com/che263/uploads/Begin_Python/idea.png)\n",
    "\n",
    "### Solución Numérica\n",
    "\n",
    "Los problemas complejos y a gran escala utilizan una solución numérica, por ejemplo con `fsolve` o `gekko`. Se requiere una función que devuelva el error residual de la ecuación. Este residual es $f(y)=y^2+y-4$, que no es igual a cero cuando el valor de $y$ no es la solución correcta. Un valor inicial de `1` o `-2` da un resultado diferente porque se empieza cerca de uno u otro.   \n",
    "\n",
    "#### Solución con Scipy fsolve"
   ]
  },
  {
   "cell_type": "code",
   "execution_count": null,
   "metadata": {},
   "outputs": [],
   "source": [
    "from scipy.optimize import fsolve\n",
    "def f(y):\n",
    "    return y**2+y-4\n",
    "z = fsolve(f,1); print(z)\n",
    "z = fsolve(f,-2); print(z)"
   ]
  },
  {
   "cell_type": "markdown",
   "metadata": {},
   "source": [
    "![gekko](https://apmonitor.com/che263/uploads/Begin_Python/gekko.png)\n",
    "\n",
    "**Solución con Python Gekko**"
   ]
  },
  {
   "cell_type": "code",
   "execution_count": null,
   "metadata": {},
   "outputs": [],
   "source": [
    "from gekko import GEKKO\n",
    "m = GEKKO(remote=False)\n",
    "#Declaración de la variable y. y=1\n",
    "y = m.Var(1)\n",
    "#Declaración de la ecuación\n",
    "m.Equation(y**2+y-4==0)\n",
    "#Resolución\n",
    "m.solve(disp=False)\n",
    "print(y.value)\n",
    "#Valor inicial y=-2\n",
    "y.value = -2\n",
    "m.solve(disp=False); print(y.value)"
   ]
  },
  {
   "cell_type": "markdown",
   "metadata": {},
   "source": [
    "![idea](https://apmonitor.com/che263/uploads/Begin_Python/idea.png)\n",
    "\n",
    "### Resolver 2 Ecuaciones\n",
    "\n",
    "Es similar tener una o dos ecuaciones\n",
    "\n",
    "$y=x^2+2x-4$\n",
    "\n",
    "$x=y$\n",
    "\n",
    "La función devuelve el error residual de cada ecuación como una lista. \n",
    "\n",
    "Se requieren dos valores iniciales. \n",
    "\n",
    "Este mismo método también se aplica para más ecuaciones. Los algoritmos que resuelven ecuaciones (solvers) pueden solucionar problemas con miles o millones de variables!!\n",
    "\n",
    "**Solución con Scipy `fsolve`**"
   ]
  },
  {
   "cell_type": "code",
   "execution_count": null,
   "metadata": {},
   "outputs": [],
   "source": [
    "from scipy.optimize import fsolve\n",
    "def f(z):\n",
    "    x,y = z\n",
    "    return [x-y,y-x**2-2*x+4]\n",
    "z = fsolve(f,[1,1]); print(z)\n",
    "z = fsolve(f,[-2,-2]); print(z)"
   ]
  },
  {
   "cell_type": "markdown",
   "metadata": {},
   "source": [
    "![gekko](https://apmonitor.com/che263/uploads/Begin_Python/gekko.png)\n",
    "\n",
    "**Solución con Python Gekko**"
   ]
  },
  {
   "cell_type": "code",
   "execution_count": null,
   "metadata": {},
   "outputs": [],
   "source": [
    "m = GEKKO(remote=False)\n",
    "x=m.Var(); y = m.Var(1);\n",
    "m.Equations([y==x**2+2*x-4, x==y])\n",
    "m.solve(disp=False)\n",
    "print(x.value, y.value)\n",
    "\n",
    "x.value=-2; y.value=-2\n",
    "m.solve(disp=False)\n",
    "print(x.value, y.value)"
   ]
  },
  {
   "cell_type": "markdown",
   "metadata": {},
   "source": [
    "![expert](https://apmonitor.com/che263/uploads/Begin_Python/expert.png)\n",
    "\n",
    "### Resolver 3 Ecuaciones\n",
    "\n",
    "$x^2+y^2+z^2=1$\n",
    "\n",
    "$x-2y+3z=0.5$\n",
    "\n",
    "$x+y+z=0$\n",
    "\n",
    "Resuelve el problema con 3 variables y 3 ecuaciones.\n",
    "\n",
    "**Solución con Scipy `fsolve`**"
   ]
  },
  {
   "cell_type": "code",
   "execution_count": null,
   "metadata": {},
   "outputs": [],
   "source": []
  },
  {
   "cell_type": "markdown",
   "metadata": {},
   "source": [
    "![gekko](https://apmonitor.com/che263/uploads/Begin_Python/gekko.png)\n",
    "\n",
    "**Solución con Python Gekko**"
   ]
  },
  {
   "cell_type": "code",
   "execution_count": null,
   "metadata": {},
   "outputs": [],
   "source": []
  },
  {
   "cell_type": "markdown",
   "metadata": {},
   "source": [
    "![idea](https://apmonitor.com/che263/uploads/Begin_Python/idea.png)\n",
    "\n",
    "### Solución Simbólica\n",
    "\n",
    "Es posible expresar simbólicamente la solución analítica de problemas simples. Una librería con símbolos matemáticos en Python es `sympy`. La función `display` está disponible para imprimir la ecuación en Jupyter notebook. Se requiere importar `from IPython.display import display`.     \n"
   ]
  },
  {
   "cell_type": "code",
   "execution_count": null,
   "metadata": {},
   "outputs": [],
   "source": [
    "from IPython.display import display\n",
    "import sympy as sym\n",
    "x = sym.Symbol('x')\n",
    "y = sym.Symbol('y')\n",
    "ans = sym.nonlinsolve([x-y, y-x**2-2*x+4], [x,y])\n",
    "display(ans)"
   ]
  },
  {
   "cell_type": "markdown",
   "metadata": {},
   "source": [
    "![expert](https://apmonitor.com/che263/uploads/Begin_Python/expert.png)\n",
    "\n",
    "### Resolver Simbólicamente 3 Ecuaciones\n",
    "\n",
    "$x\\,y\\,z=0$\n",
    "\n",
    "$x\\,y=0$\n",
    "\n",
    "$x+5\\,y+z$\n",
    "\n",
    "Resuelve el problema con 3 variables y 3 ecuaciones de forma simbólica. El problema está subespecificado, por lo que una de las variables aparecerá en la solución; es decir, hay un set infinito de soluciones.  "
   ]
  },
  {
   "cell_type": "code",
   "execution_count": null,
   "metadata": {
    "scrolled": true
   },
   "outputs": [],
   "source": []
  },
  {
   "cell_type": "markdown",
   "metadata": {},
   "source": [
    "![idea](https://apmonitor.com/che263/uploads/Begin_Python/idea.png)\n",
    "\n",
    "### Ecuaciones Lineales\n",
    "\n",
    "Puedes resolver ecuaciones lineales en Python. Existen métodos eficientes como `x = np.linalg.solve(A,b)` para resolver ecuaciones de tipo $A x = b$ con la matriz $A$ y los vectores $x$ y $b$.\n",
    "\n",
    "$A = \\begin{bmatrix}3 & 2\\\\ 1 & 2 \\end{bmatrix} \\quad b = \\begin{bmatrix}1 \\\\ 0 \\end{bmatrix}$"
   ]
  },
  {
   "cell_type": "code",
   "execution_count": null,
   "metadata": {},
   "outputs": [],
   "source": [
    "import numpy as np\n",
    "A = np.array([[3,2],[1,2]])\n",
    "b = np.array([1,0])\n",
    "\n",
    "x = np.linalg.solve(A,b)\n",
    "print(x)"
   ]
  },
  {
   "cell_type": "markdown",
   "metadata": {},
   "source": [
    "La solución simbólica para este set de ecuaciones lineales está disponible con la función `sympy` `linsolve`. Si el problema es lineal, se prefiere usar `linsolve` porque es más eficiente que `nonlinsolve`, pero puede resolver los dos."
   ]
  },
  {
   "cell_type": "code",
   "execution_count": null,
   "metadata": {},
   "outputs": [],
   "source": [
    "import sympy as sym\n",
    "x, y = sym.symbols('x y')\n",
    "ans = sym.linsolve([3*x + 2*y - 1, x + 2*y], (x, y))\n",
    "sym.pprint(ans)"
   ]
  },
  {
   "cell_type": "markdown",
   "metadata": {},
   "source": [
    "![idea](https://apmonitor.com/che263/uploads/Begin_Python/idea.png)\n",
    "\n",
    "### Optimización\n",
    "\n",
    "Cuando hay más variables que ecuaciones, el problema está subespecificado y no puede hallarse solución con una función como `fsolve` (para problemas lineales y no lineales) o `linalg.solve` (solo para problemas lineales). Se requiere información adicional para guiar la selección de las variables extra.\n",
    "\n",
    "Una función objetivo $J(x)$ es una manera de especificar el problema para que exista solución única. El objetivo es minimizar  $x_1 x_4 \\left(x_1 + x_2 + x_3\\right) + x_3$. Las dos ecuaciones que guían la selección de dos variables son las restricciones de desigualdad $\\left(x_1 x_2 x_3 x_4 \\ge 25\\right)$ y de igualdad $\\left(x_1^2 + x_2^2 + x_3^2 + x_4^2 = 40\\right)$. Las cuatro variables deben estar entre `1` (límite inferior) y `5` (límite superior).\n",
    "\n",
    "\n",
    "$\\quad \\min x_1 x_4 \\left(x_1 + x_2 + x_3\\right) + x_3$\n",
    "\n",
    "$\\quad \\mathrm{s.t.:} \\quad x_1 x_2 x_3 x_4 \\ge 25$\n",
    "\n",
    "$\\quad x_1^2 + x_2^2 + x_3^2 + x_4^2 = 40$\n",
    "\n",
    "$\\quad 1\\le x_1, x_2, x_3, x_4 \\le 5$\n",
    "\n",
    "con valores iniciales:\n",
    "\n",
    "$\\quad x_0 = (1,5,5,1)$\n",
    "\n",
    "Información adicional sobre optimización encontrarás en el [Curso de Diseño y Optimización en inglés](https://apmonitor.com/me575) y en el [Libro de Diseño y Optimización en inglés](https://apmonitor.com/me575/index.php/Main/BookChapters).\n",
    "\n",
    "Referencia:\n",
    "Optimization Methods for Engineering Design, Parkinson, A.R., Balling, R., and J.D. Hedengren, Second Edition, Brigham Young University, 2018.\n",
    "\n",
    "El primer método de resolución es con `scipy.optimize.minimize`. Las funciones en esta librería trabajan bien con problemas de tamaño moderado y modelos de caja negra, donde una función objetivo está disponible a través de la llamada a una función (function call)."
   ]
  },
  {
   "cell_type": "code",
   "execution_count": null,
   "metadata": {},
   "outputs": [],
   "source": [
    "import numpy as np\n",
    "from scipy.optimize import minimize\n",
    "\n",
    "def objective(x):\n",
    "    return x[0]*x[3]*(x[0]+x[1]+x[2])+x[2]\n",
    "\n",
    "def constraint1(x):\n",
    "    return x[0]*x[1]*x[2]*x[3]-25.0\n",
    "\n",
    "def constraint2(x):\n",
    "    sum_eq = 40.0\n",
    "    for i in range(4):\n",
    "        sum_eq = sum_eq - x[i]**2\n",
    "    return sum_eq\n",
    "\n",
    "# condiciones iniciales\n",
    "n = 4\n",
    "x0 = np.zeros(n)\n",
    "x0[0] = 1.0\n",
    "x0[1] = 5.0\n",
    "x0[2] = 5.0\n",
    "x0[3] = 1.0\n",
    "\n",
    "# optimización\n",
    "b = (1.0,5.0)\n",
    "bnds = (b, b, b, b)\n",
    "con1 = {'type': 'ineq', 'fun': constraint1} \n",
    "con2 = {'type': 'eq', 'fun': constraint2}\n",
    "cons = ([con1,con2])\n",
    "solution = minimize(objective,x0,method='SLSQP',\\\n",
    "                    bounds=bnds,constraints=cons)\n",
    "x = solution.x\n",
    "\n",
    "# mostrar objetivo final\n",
    "print('Final Objective: ' + str(objective(x)))\n",
    "\n",
    "# imprimir solución\n",
    "print('Solution')\n",
    "print('x1 = ' + str(x[0]))\n",
    "print('x2 = ' + str(x[1]))\n",
    "print('x3 = ' + str(x[2]))\n",
    "print('x4 = ' + str(x[3]))"
   ]
  },
  {
   "cell_type": "markdown",
   "metadata": {},
   "source": [
    "![gekko](https://apmonitor.com/che263/uploads/Begin_Python/gekko.png)\n",
    "\n",
    "### Optimización con Gekko\n",
    "\n",
    "[Python Gekko](https://gekko.readthedocs.io/en/latest/) también resuelve problemas de optimización. Usa diferenciación automática y algoritmos (solvers) basados en gradientes como `APOPT` o `IPOPT` para hallar una solución. Este método de solución es mejor para problemas a gran escala. [Tutoriales Adicionales sobre Gekko en inglés](https://apmonitor.com/wiki/index.php/Main/GekkoPythonOptimization) muestran cómo resolver otro tipo de problemas de optimización."
   ]
  },
  {
   "cell_type": "code",
   "execution_count": null,
   "metadata": {},
   "outputs": [],
   "source": [
    "from gekko import GEKKO\n",
    "m = GEKKO(remote=False)\n",
    "\n",
    "# Inicializar Variables\n",
    "x1,x2,x3,x4 = [m.Var(lb=1, ub=5) for i in range(4)]\n",
    "\n",
    "# Condiciones Iniciales\n",
    "x1.value = 1\n",
    "x2.value = 5\n",
    "x3.value = 5\n",
    "x4.value = 1\n",
    "\n",
    "# Ecuaciones\n",
    "m.Equation(x1*x2*x3*x4>=25)\n",
    "m.Equation(x1**2+x2**2+x3**2+x4**2==40)\n",
    "\n",
    "# Objetivo\n",
    "m.Obj(x1*x4*(x1+x2+x3)+x3)\n",
    "\n",
    "# Resolver\n",
    "m.solve(disp=False)\n",
    "\n",
    "# Objectivo Final\n",
    "print('Final Objective: ' + str(m.options.objfcnval))\n",
    "\n",
    "# Imprimir soluciones\n",
    "print('Solution')\n",
    "print('x1: ' + str(x1.value))\n",
    "print('x2: ' + str(x2.value))\n",
    "print('x3: ' + str(x3.value))\n",
    "print('x4: ' + str(x4.value))"
   ]
  },
  {
   "cell_type": "markdown",
   "metadata": {},
   "source": [
    "### Actividad con el TCLab\n",
    "\n",
    "![expert](https://apmonitor.com/che263/uploads/Begin_Python/expert.png)\n",
    "\n",
    "### Recolección de Datos\n",
    "\n",
    "![connections](https://apmonitor.com/che263/uploads/Begin_Python/connections.png)\n",
    "\n",
    "Enciende el calentador 1 al 100% y graba $T_1$ cada 10 segundos por 3 minutos. Los datos deben incluir un total de 19 puntos para cada sensor de temperatura y el tiempo, iniciando en cero. Toma nota de los puntos de temperatura en 0, 90 y 180 segundos."
   ]
  },
  {
   "cell_type": "code",
   "execution_count": null,
   "metadata": {},
   "outputs": [],
   "source": []
  },
  {
   "cell_type": "markdown",
   "metadata": {},
   "source": [
    "![expert](https://apmonitor.com/che263/uploads/Begin_Python/expert.png)\n",
    "\n",
    "### Ecuaciones Lineales\n",
    "\n",
    "Se requieren tres puntos para especificar un polinomio de grado 2 de la forma $y =a_0 + a_1 \\; x + a_2 \\; x^2$. Crea una regresión cuadrática para $T_2$ usando solo el primer, medio y último punto. Supón que los puntos para $T_2$ son los siguientes:     \n",
    "\n",
    "| Tiempo (sec) | Temperatura (°C)  |\n",
    "|------|------|\n",
    "| 0    | 23.0 |\n",
    "| 90    | 33.0 |\n",
    "| 180    | 43.0 |\n",
    "\n",
    "Resuelve la regresión lineal como un set de tres ecuaciones que se derivan conectando los tres puntos a la ecuación polinómica. Crea tres ecuaciones que consideren $y=T_2$ y $x=tiempo$.\n",
    "\n",
    "$\\quad a_0 + a_1 \\; 0 + a_2 \\; 0^2 = 23.0$\n",
    "\n",
    "$\\quad a_0 + a_1 \\; 90 + a_2 \\; 90^2 = 33.0$\n",
    "\n",
    "$\\quad a_0 + a_1 \\; 180 + a_2 \\; 180^2 = 43.0$\n",
    "\n",
    "En forma de matriz, el set de ecuaciones lineales es:  \n",
    "\n",
    "$\\quad \\begin{bmatrix}1 & 0 & 0 \\\\ 1 & 90 & 90^2 \\\\ 1 & 180 & 180^2 \\end{bmatrix}\\begin{bmatrix}a_0\\\\a_1\\\\a_2\\end{bmatrix} = \\begin{bmatrix}23.0\\\\33.0\\\\43.0\\end{bmatrix}$\n",
    "\n",
    "Resuelve el set de ecuaciones para hallar los parámetros cuadráticos $a_0$, $a_1$ y $a_2$ con los datos recolectados al inicio de la actividad con el TCLab. Dibuja el ajuste cuadrático con los datos para asegurar que la curva pasa por los tres puntos indicados."
   ]
  },
  {
   "cell_type": "code",
   "execution_count": null,
   "metadata": {},
   "outputs": [],
   "source": []
  },
  {
   "cell_type": "markdown",
   "metadata": {},
   "source": [
    "![expert](https://apmonitor.com/che263/uploads/Begin_Python/expert.png)\n",
    "\n",
    "### Ecuaciones No Lineales\n",
    "\n",
    "Ajusta los datos de $T_1$ a una correlación no lineal usando solo tres puntos.\n",
    "\n",
    "$\\quad T_1 = a + b \\exp{(c \\, tiempo)}$\n",
    "\n",
    "Se requieren únicamente tres puntos para especificar un modelo con tres parámetros. Cuando hay más del mínimo número de puntos requerido, usualmente se ejecuta una regresión de mínimos cuadrados para minimizar el cuadrado del error entre los valores medidos y predecidos. Para este ejercicio, usa solo tres puntos (primero, medio y último) de los datos $T_1$. Supón que los puntos para $T_1$ son los siguientes: \n",
    "\n",
    "\n",
    "| Tiempo (sec) | Temperatura (°C)  |\n",
    "|------|------|\n",
    "| 0    | 22.0 |\n",
    "| 90    | 42.0 |\n",
    "| 180    | 52.0 |\n",
    "\n",
    "Resuelve para hallar los tres parámetros a partir de las tres ecuaciones que intersecan a los datos requeridos.   \n",
    "\n",
    "$\\quad 22.0 = a + b \\exp{(c \\, 0)}$\n",
    "\n",
    "$\\quad 42.0 = a + b \\exp{(c \\, 90.3)}$\n",
    "\n",
    "$\\quad 52.0 = a + b \\exp{(c \\, 180.5)}$\n",
    "\n",
    "Resuelve este set de ecuaciones para los parámetros desconocidos $a$, $b$ y $c$ con los datos recolectados al inicio de esta actividad. Utiliza como valores iniciales $a=100$, $b=-100$ y $c=-0.01$. Grafica el ajuste no lineal con los datos para asegurar que este pasa por los tres puntos especificados. Añade las etiquetas necesarias en el gráfico."
   ]
  },
  {
   "cell_type": "code",
   "execution_count": null,
   "metadata": {},
   "outputs": [],
   "source": []
  }
 ],
 "metadata": {
  "kernelspec": {
   "display_name": "Python 3",
   "language": "python",
   "name": "python3"
  },
  "language_info": {
   "codemirror_mode": {
    "name": "ipython",
    "version": 3
   },
   "file_extension": ".py",
   "mimetype": "text/x-python",
   "name": "python",
   "nbconvert_exporter": "python",
   "pygments_lexer": "ipython3",
   "version": "3.7.6"
  }
 },
 "nbformat": 4,
 "nbformat_minor": 2
}
