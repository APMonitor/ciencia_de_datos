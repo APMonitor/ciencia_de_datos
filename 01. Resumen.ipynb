{
 "cells": [
  {
   "cell_type": "markdown",
   "metadata": {},
   "source": [
    "### Encuesta\n",
    "\n",
    "Este trabajo es parte de una investigación que busca cuantificar el impacto de integrar Hardware (TCLab) con Software (Programación en Python).\n",
    "\n",
    "Si ya realizaste la encuesta continúa a **1. Resumen**. De lo contrario, por favor completa la siguiente encuesta de **INICIO de Curso**.\n",
    "\n",
    "[![Inicio](https://img1.wsimg.com/isteam/ip/aab852a2-7b1f-49c0-92af-9206f2ec6a75/Inicio.png/:/rs=w:1440,h:1440)](https://forms.office.com/Pages/ResponsePage.aspx?id=r4yvt9iDREaFrjF8VFIjwUHkKiCq1wxFstxAwkoFiilUQVZDTk5MM0ZXOTdONjc1SFlZVTQ3VlJMNi4u)\n",
    "\n",
    "## 1. Resumen\n",
    "\n",
    "[Playlist de Ciencia de Datos en castellano](https://www.youtube.com/watch?v=r_LB_k17MGE&list=PLLBUgWXdTBDg1Qgmwt4jKtVn9BWh5-zgy)\n",
    "[![Ciencia de Datos en Python](https://img1.wsimg.com/isteam/ip/aab852a2-7b1f-49c0-92af-9206f2ec6a75/2-0001.png/:/rs=w:1160,h:653)](https://www.youtube.com/watch?v=r_LB_k17MGE&list=PLLBUgWXdTBDg1Qgmwt4jKtVn9BWh5-zgy \"Python Data Science\")\n",
    "\n",
    "### Introducción\n",
    "\n",
    "¡¡BIENVENIDOS al curso de Ciencia de Datos con Python en castellano!! Este curso recorre habilidades básicas de la Ciencia de Datos y Aprendizaje Automático para analizar datos y crear información procesable. Aborda los principales pasos del proceso estándar entre industrias para el ciclo de Minería de Datos (CRISP-DM, por sus siglas en inglés) que tiene 6 fases:\n",
    "\n",
    "1. Comprensión empresarial: propósito del proyecto de Ciencia de Datos.\n",
    "2. Comprensión de datos: evaluar los datos disponibles para cada caso particular.\n",
    "3. Preparación de datos: análisis exploratorio de datos, \"feature engineering\" (ingeniería de características) y transformaciones.\n",
    "4. Modelado: seleccionar y entrenar regresores o clasificadores.\n",
    "5. Evaluación: modelos de prueba con varios criterios.\n",
    "6. Implementación: fase de producción para implementar modelos en \"data pipelines\".\n",
    "\n",
    "Los 12 CAPÍTULOS están diseñados para completarse en 2-3 horas (15-20 minutos cada uno), pero se pueden omitir algunas secciones si ya se tienen conocimientos previos.\n",
    "\n",
    "1. [Resumen](https://github.com/APMonitor/ciencia_de_datos/blob/main/01.%20Resumen.ipynb)\n",
    "2. [Importar y Exportar datos](https://github.com/APMonitor/ciencia_de_datos/blob/main/02.%20Importar_Exportar.ipynb)\n",
    "3. [Análisis de datos](https://github.com/APMonitor/ciencia_de_datos/blob/main/03.%20Analizar_data.ipynb)\n",
    "4. [Visualización de datos](https://github.com/APMonitor/ciencia_de_datos/blob/main/04.%20Visualizar_data.ipynb)\n",
    "5. [Preparación de datos (limpiar, escalar y dividir)](https://github.com/APMonitor/ciencia_de_datos/blob/main/05.%20Preparar_data.ipynb)\n",
    "6. [Regresión](https://github.com/APMonitor/ciencia_de_datos/blob/main/06.%20Regresi%C3%B3n.ipynb)\n",
    "7. [Atributos](https://github.com/APMonitor/ciencia_de_datos/blob/main/07.%20Atributos.ipynb)\n",
    "8. [Clasificación](https://github.com/APMonitor/ciencia_de_datos/blob/main/08.%20Clasificaci%C3%B3n.ipynb)\n",
    "9. [Interpolación](https://github.com/APMonitor/ciencia_de_datos/blob/main/09.%20Interpolaci%C3%B3n.ipynb)\n",
    "10. [Resolución de ecuaciones](https://github.com/APMonitor/ciencia_de_datos/blob/main/10.%20Resolver_ecuaciones.ipynb)\n",
    "11. [Ecuaciones diferenciales](https://github.com/APMonitor/ciencia_de_datos/blob/main/11.%20Ecuaciones_diferenciales.ipynb)\n",
    "12. [Series de tiempo](https://github.com/APMonitor/ciencia_de_datos/blob/main/12.%20Series_de_tiempo.ipynb)\n",
    "\n",
    "Se recomienda seguir las lecciones una por una porque estas se basan en información de cada capítulo anterior.\n",
    "\n",
    "### Proyecto Final\n",
    "\n",
    "![cell](https://apmonitor.com/che263/uploads/Begin_Python/cell.png)\n",
    "\n",
    "Diseñaremos un teléfono celular de próxima generación donde la batería y el procesador generan mucho calor. El objetivo que tenemos es asegurarnos de que el material entre ellos evite el sobrecalentamiento de la batería por parte del procesador.\n",
    "\n",
    "![battery_cpu](https://apmonitor.com/che263/uploads/Begin_Python/battery_cpu.png)\n",
    "\n",
    "El proyecto final ayudará a responder preguntas sobre las propiedades del material para predecir la temperatura de la batería y el procesador. Utiliza datos del laboratorio de control de temperatura (TCLab) para determinar la conductividad térmica. Se recomienda mirar el [Proyecto Final](https://github.com/APMonitor/data_science/blob/master/04.%20Visualize.ipynb) después de pasar por las 12 lecciones y cuando estés listo para este desafío!!!"
   ]
  },
  {
   "cell_type": "markdown",
   "metadata": {},
   "source": [
    "### ¿Qué ejecuta los comandos de Python?\n",
    "\n",
    "El ejecutable de Python acciona los comandos. Un Jupyter notebook inicia una sesión de Python llamada kernel. Reiniciar el kernel elimina cualquiera de los resultados de las celdas anteriores y detiene cualquier código en ejecución."
   ]
  },
  {
   "cell_type": "code",
   "execution_count": null,
   "metadata": {},
   "outputs": [],
   "source": [
    "import sys\n",
    "print(sys.executable)"
   ]
  },
  {
   "cell_type": "markdown",
   "metadata": {},
   "source": [
    "### ¿Dónde está el directorio de trabajo actual?\n",
    "\n",
    "El directorio de trabajo actual está en la misma carpeta del IPython notebook en ejecución. También es donde se almacenarán y recuperarán los archivos. Es posible cambiar el directorio de trabajo actual con `os.chdir(path)`"
   ]
  },
  {
   "cell_type": "code",
   "execution_count": null,
   "metadata": {},
   "outputs": [],
   "source": [
    "import os\n",
    "print(os.getcwd())"
   ]
  },
  {
   "cell_type": "markdown",
   "metadata": {},
   "source": [
    "Hay archivos de Jupyter notebook separados para ayudar con la instalación del TCLab. También se puede consultar en [Preguntas Frecuentes](https://apmonitor.com/pdc/index.php/Main/ArduinoSetup) (en inglés) para problemas de configuración y resolución de problemas. Más información sobre la instalación del paquete TCLab está disponible en el IPython notebook __TCLab Help__."
   ]
  },
  {
   "cell_type": "markdown",
   "metadata": {},
   "source": [
    "![exercise](https://apmonitor.com/che263/uploads/Begin_Python/exercise.png)\n",
    "\n",
    "### Librerías de Python requeridas\n",
    "\n",
    "Es importante que consideremos las librerías para Ciencia de Datos y Aprendizaje Automático por el ritmo de nuevos lanzamientos y/o actualizaciones. En este sentido, puede ser necesario instalar la última versión o una versión específica anterior.\n",
    "\n",
    "Para instalar las librerías, utiliza `pip` (o `conda`). Una alternativa es iniciar \"Anaconda prompt\" del menú inicio, puedes iniciar DOS prompt al presionar las teclas Windows-key + r `cmd`, o el terminal en MacOS/Linux y digitar:\n",
    "\n",
    "![gekko](https://apmonitor.com/che263/uploads/Begin_Python/gekko.png)\n",
    "\n",
    "```\n",
    "python -m pip install gekko\n",
    "```\n",
    "\n",
    "Si deseas ejecutar este comando en Jupyter notebook utiliza un signo de exclamación al frente, de esta forma:\n",
    "\n",
    "```python\n",
    "!python -m pip install gekko\n",
    "```\n",
    "\n",
    "Si deseas estar seguro de que estás usando la distribución del Python kernel actual, usa: `sys.executable`.\n",
    "\n",
    "```python\n",
    "import sys\n",
    "!{sys.executable} -m pip install gekko\n",
    "```\n",
    "\n",
    "Las librerías que se utilizan en estos módulos son: `gekko`, `keras`, `numpy`, `pandas`, `pyserial`, `sklearn`, `tclab`, `tensorflow`, y otras. En caso de existir algún error de que falta una librería entonces `!pip install gekko` es la forma más común y fácil para instalarlo desde el notebook. El símbolo `!` le indica a Jupyter que corra desde el sistema de comando y no con Python. A pesar de que `!` es opcional a `pip` en la última versión de Jupyter. Añadir `--user` (no un nombre de usuario específico) si deseas tener privilegios de administrador en el computador. El administrador de librerías `pip` obtiene la [última versión de gekko](https://pypi.org/project/gekko/) desde `pypi` y lo instala en la distribución de Python."
   ]
  },
  {
   "cell_type": "markdown",
   "metadata": {},
   "source": [
    "![idea](https://apmonitor.com/che263/uploads/Begin_Python/idea.png)\n",
    "\n",
    "### Instalar la librería"
   ]
  },
  {
   "cell_type": "code",
   "execution_count": null,
   "metadata": {},
   "outputs": [],
   "source": [
    "!python -m pip install --user gekko"
   ]
  },
  {
   "cell_type": "markdown",
   "metadata": {},
   "source": [
    "![idea](https://apmonitor.com/che263/uploads/Begin_Python/idea.png)\n",
    "\n",
    "### Lista de paquetes y versiones disponibles"
   ]
  },
  {
   "cell_type": "code",
   "execution_count": null,
   "metadata": {},
   "outputs": [],
   "source": [
    "!python -m pip list"
   ]
  },
  {
   "cell_type": "markdown",
   "metadata": {},
   "source": [
    "![idea](https://apmonitor.com/che263/uploads/Begin_Python/idea.png)\n",
    "\n",
    "### Desinstalar la librería\n",
    "\n",
    "Para desinstalar (`uninstall`) una libería se debe utilizar la línea de comando porque nos preguntará por una respuesta sí o no \n",
    "(`yes`/`no`) o podemos añadir que sí (`--yes`) al inicio para responder automáticamente y confirmar el mensaje. No olvides reinstalar la librería, en caso de requerirla."
   ]
  },
  {
   "cell_type": "code",
   "execution_count": null,
   "metadata": {},
   "outputs": [],
   "source": [
    "!python -m pip uninstall gekko --yes"
   ]
  },
  {
   "cell_type": "markdown",
   "metadata": {},
   "source": [
    "![idea](https://apmonitor.com/che263/uploads/Begin_Python/idea.png)\n",
    "\n",
    "### Instalar una versión específica\n",
    "\n",
    "Es posible que debas obtener una versión de librería particular especificando una versión como `0.2.0`."
   ]
  },
  {
   "cell_type": "code",
   "execution_count": null,
   "metadata": {},
   "outputs": [],
   "source": [
    "!python -m pip install gekko==0.2.0"
   ]
  },
  {
   "cell_type": "markdown",
   "metadata": {},
   "source": [
    "![idea](https://apmonitor.com/che263/uploads/Begin_Python/idea.png)\n",
    "\n",
    "### Actualización de una librería\n",
    "\n",
    "Si tienes una versión anterior y deseas actualizar a la última versión estable, utiliza `--upgrade`"
   ]
  },
  {
   "cell_type": "code",
   "execution_count": null,
   "metadata": {},
   "outputs": [],
   "source": [
    "!python -m pip install gekko --upgrade"
   ]
  },
  {
   "cell_type": "markdown",
   "metadata": {},
   "source": [
    "![list](https://apmonitor.com/che263/uploads/Begin_Python/list.png)\n",
    "\n",
    "### `pip` Resumen\n",
    "\n",
    "La herramienta `pip` facilita la gestión de librerías en Python utilizando `install`, `list`, y comandos `uninstall`.\n",
    "\n",
    "```python\n",
    "!python -m pip {command} {package name}\n",
    "```"
   ]
  },
  {
   "cell_type": "markdown",
   "metadata": {},
   "source": [
    "![idea](https://apmonitor.com/che263/uploads/Begin_Python/idea.png)\n",
    "\n",
    "### Instalar el módulo TCLab\n",
    "\n",
    "Necesitas un TCLab para realizar algunos ejercicios, sin embargo hay archivos de datos de muestra disponibles si no tienes un dispositivo. El [TCLab](https://apmonitor.com/heat.htm) está disponible para compra en línea a través de [Amazon](https://www.amazon.com/TCLab-Temperature-Control-Lab/dp/B07GMFWMRY) o con otras [opciones disponibles](https://apmonitor.com/pdc/index.php/Main/PurchaseLabKit).\n",
    "\n",
    "![connections_no_power](https://apmonitor.com/che263/uploads/Begin_Python/connections_no_power.png)\n",
    "\n",
    "Como primer paso, conecta el TCLab (utiliza el cable USB azul solamente) e instala la librería con `python -m pip install tclab` o corriendo la celda inferior (`Ctrl+Enter`). Reinicia el kernel de Python con `Kernel...Restart & Run All` disponible en el menú en caso de haber algún error al importar `tclab` después de la instalación."
   ]
  },
  {
   "cell_type": "code",
   "execution_count": null,
   "metadata": {},
   "outputs": [],
   "source": [
    "# instalar el tclab\n",
    "try:\n",
    "    import tclab\n",
    "except:\n",
    "    # Necesario para comunicarse a través del puerto USB.\n",
    "    !python -m pip install --user pyserial\n",
    "    # El usuario (--user) se coloca para cuentas sin privilegios de administrador\n",
    "    !python -m pip install --user tclab \n",
    "    # reiniciar el kernel si no importa\n",
    "    try:\n",
    "        import tclab\n",
    "    except:\n",
    "        print('Reiniciar el kernel desde el menú si el kernel no responde')\n",
    "        print('Reiniciar el kernel automáticamente...')\n",
    "        import IPython\n",
    "        app = IPython.Application.instance()\n",
    "        app.kernel.do_shutdown(restart=True) "
   ]
  },
  {
   "cell_type": "markdown",
   "metadata": {},
   "source": [
    "### Prueba LED del TCLab\n",
    "\n",
    "El siguiente código muestra cómo encender el LED durante 5 segundos. Solo necesitas conectar el cable USB azul a tu computador. El cable de alimentación blanco es necesario para conectar el calentador para el siguiente ejemplo."
   ]
  },
  {
   "cell_type": "code",
   "execution_count": null,
   "metadata": {},
   "outputs": [],
   "source": [
    "import tclab\n",
    "import time\n",
    "\n",
    "with tclab.TCLab() as lab:\n",
    "    lab.LED(100)\n",
    "    time.sleep(5.0) # espera 5.0 segundos\n",
    "    lab.LED(0)"
   ]
  },
  {
   "cell_type": "markdown",
   "metadata": {},
   "source": [
    "### Prueba de calentador del TCLab\n",
    "\n",
    "![connections](https://apmonitor.com/che263/uploads/Begin_Python/connections.png)\n",
    "\n",
    "El siguiente código muestra cómo encender el calentador `Q1`. Se lee la temperatura `T1` antes y después de una pausa de 10 segundos. Debes conectar el cable de alimentación blanco y conectar la fuente de energía. El cable de alimentación blanco es necesario para suministrar energía a los calentadores."
   ]
  },
  {
   "cell_type": "code",
   "execution_count": null,
   "metadata": {},
   "outputs": [],
   "source": [
    "with tclab.TCLab() as lab:\n",
    "    print(lab.T1)  # imprime la temperatura 1\n",
    "    lab.Q1(100)    # activar Q1 al 100%\n",
    "    time.sleep(15) # duerme por 15 segundos\n",
    "    print(lab.T1)  # imprime la temperatura 1"
   ]
  },
  {
   "cell_type": "markdown",
   "metadata": {},
   "source": [
    "![expert](https://apmonitor.com/che263/uploads/Begin_Python/expert.png)\n",
    "\n",
    "### Actividad con el TCLab\n",
    "\n",
    "Las funciones del TCLab permiten que Python interactúe con el TCLab a través de la conección por USB.\n",
    "\n",
    "| **Función del TCLab** | **Ejemplo** | **Descripción** |\n",
    "| ----------- | ----------- | ----------- |\n",
    "| `TCLab()` | `tclab.TCLab()` | Crea un nuevo objeto del laboratorio y se conecta |\n",
    "| `LED` | `lab.LED(45)` | Enciende el LED al 45%. El rango válido es 0-100% |\n",
    "| `Q1` | `lab.Q1(63)` | Encender el calentador 1 (`Q1`) a 63%. El rango válido es 0-100% |\n",
    "| `Q2` | `lab.Q2(28)` | Encender el calentador 2 (`Q2`) to 28%. El rango válido es 0-100% |\n",
    "| `T1` | `print(lab.T1)` | Leer la temperatura 1 (`T1`) en °C. El rango válido es -40 a 150°C (sensor TMP36) |\n",
    "| `T2` | `print(lab.T2)` | Leer la temperatura 2 (`T2`) en °C con +/- 1°C de incertidumbre (sensor TMP36) |\n",
    "| `close()` | `lab.close()` | Finaliza la conexión USB con el TCLab - no es necesaria si se utiliza `with` para abrir |\n",
    "\n",
    "Completa los siguientes ejercicios.\n",
    "\n",
    "### Acciona el LED\n",
    "\n",
    "Acciona el LED 5 veces por 1 segundo cada uno."
   ]
  },
  {
   "cell_type": "code",
   "execution_count": null,
   "metadata": {},
   "outputs": [],
   "source": []
  },
  {
   "cell_type": "markdown",
   "metadata": {},
   "source": [
    "### Alcanza la temperatura de 50°C\n",
    "\n",
    "Enciende el calentador 1 (`Q1`) a 80% hasta que `T1` alcance 50°C. Actualiza el tiempo de acción (`t`) del LED.\n",
    "\n",
    "$t = \\frac{50-T_1}{10}$\n",
    "\n",
    "Esto muestra una indicación visual de la temperatura (`T1`) con la fórmula para alternar el tiempo libre y el tiempo activo. A medida que la temperatura se acerca a 50°C, el LED se acciona de forma más rápida hasta que se apaga.\n",
    "\n",
    "Utiliza un lazo `while lab.T1<50:` para continuamente verificar que la temperatura es menor que 50°C."
   ]
  },
  {
   "cell_type": "code",
   "execution_count": null,
   "metadata": {},
   "outputs": [],
   "source": []
  },
  {
   "cell_type": "code",
   "execution_count": null,
   "metadata": {},
   "outputs": [],
   "source": []
  }
 ],
 "metadata": {
  "kernelspec": {
   "display_name": "Python 3",
   "language": "python",
   "name": "python3"
  },
  "language_info": {
   "codemirror_mode": {
    "name": "ipython",
    "version": 3
   },
   "file_extension": ".py",
   "mimetype": "text/x-python",
   "name": "python",
   "nbconvert_exporter": "python",
   "pygments_lexer": "ipython3",
   "version": "3.8.5"
  },
  "widgets": {
   "application/vnd.jupyter.widget-state+json": {
    "state": {},
    "version_major": 2,
    "version_minor": 0
   }
  }
 },
 "nbformat": 4,
 "nbformat_minor": 2
}
