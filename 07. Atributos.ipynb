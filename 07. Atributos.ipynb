{
 "cells": [
  {
   "cell_type": "markdown",
   "metadata": {},
   "source": [
    "## 7. Atributos\n",
    "\n",
    "[Playlist de Ciencia de Datos en castellano](https://www.youtube.com/watch?v=w97CsaLuEvI&list=PLLBUgWXdTBDg1Qgmwt4jKtVn9BWh5-zgy)\n",
    "[![Ciencia de Datos en Python](https://img1.wsimg.com/isteam/ip/aab852a2-7b1f-49c0-92af-9206f2ec6a75/8-0001.png/:/rs=w:1160,h:653)](https://www.youtube.com/watch?v=w97CsaLuEvI&list=PLLBUgWXdTBDg1Qgmwt4jKtVn9BWh5-zgy \"Python Data Science\")\n",
    "\n",
    "**La clasificación** predice *etiquetas discretas (resultados)* como `sí` /` no`, `Verdadero` /` Falso`, o cualquier tipo de variable discreta, como una letra mediante de reconocimiento de texto. Un ejemplo de clasificación es sugerir una película que querrás ver (etiqueta) en base al historial de visualización (o atributo(s)). **La Regresión**, a diferencia de la clasificación, da resultados continuos, como un número real dentro de un rango. Un ejemplo de regresión es construir una correlación de la temperatura de una olla con agua (etiqueta) basada en el tiempo que se ha estado calentando (atributo). Los valores de temperatura son continuos, mientras que la siguiente película es una de las muchas opciones discretas.\n",
    "\n",
    "![list](https://apmonitor.com/che263/uploads/Begin_Python/list.png)\n",
    "\n",
    "Los atributos son variables de entrada para modelos de regresión o clasificación. **Los atributos son entradas** y **las etiquetas son los resultados medidos**. A continuación se muestra una tabla de términos con terminología de aprendizaje automático (machine learning), optimización, \"GEKKO\" y una breve descripción.\n",
    "\n",
    "\n",
    "| **Machine Learning** | **Optimización** | **Estimación en Gekko** | **Descripción** |\n",
    "| ----------- | ----------- | ----------- | ----------- |\n",
    "| Pérdida | Función objetivo | `m.Minimize()` | La representación matemática de la diferencia entre los valores medidos y los valores predichos |\n",
    "| Ponderaciones | Parámetros ajustables | Valores fijos (`m.FV()`) con `STATUS=1` | Valores ajustables para minimizar la función objetivo |\n",
    "| Etiqueta | Resultado medido | Variable controlada (`m.CV()`) con `FSTATUS=1` | Mediciones u observaciones de las variables predichas |\n",
    "| Atributo | Entrada medida | Parámetro (`m.Param()`) | Mediciones de entrada que se usan para predecir las etiquetas (resultados) a la salida |\n",
    "| Entrenar | Optimizar | Resolver (`m.solve()`) | Ajustar los parámetros ajustables (ponderaciones) para minimizar la función objetivo (pérdida) |\n",
    "| Testear | Evaluar | Resolver `STATUS=0` para `m.FV()` | Predecir las etiquetas con el modelo ajustado para evaluar el desempeño del clasificador o regresor | \n",
    "| Regresor o Clasificador | Modelo | `m = GEKKO()` | Ecuaciones matemáticas y parámetros que utilizan los atributos de entrada y devuelven como resultado las etiquetas de salida |\n",
    "\n",
    "![idea](https://apmonitor.com/che263/uploads/Begin_Python/idea.png)\n",
    "\n",
    "La selección y creación de atributos es un paso importante en machine learning. Un número muy grande de atributos podría provocar un incremento en la probabilidad de que el regresor o clasificador tenga errores en las predicciones. Con muchos atributos, una entrada podría ser un valor \"malo\" y causar una predicción errónea. Además, mientras más atributos, más tiempo es necesario para limpiar los datos, entrenar los modelos y predecir resultados. A continuación se mostrarán métodos para seleccionar los mejores atributos para clasificación y regresión."
   ]
  },
  {
   "cell_type": "markdown",
   "metadata": {},
   "source": [
    "![analyze](https://apmonitor.com/che263/uploads/Begin_Python/analyze.png)\n",
    "\n",
    "### Identificar Atributos y Etiquetas\n",
    "\n",
    "El primer paso para construir un regresor o clasificador es determinar qué medidas (atributos de entrada y etiquetas de salida) están disponibles. Puedes seleccionar las columnas de datos como atributos o generar [atributos derivados](https://towardsdatascience.com/automated-feature-engineering-in-python-99baf11cc219) con una librería como [`Featuretools`](https://towardsdatascience.com/why-automated-feature-engineering-will-change-the-way-you-do-machine-learning-5c15bf188b96).\n",
    "\n",
    "Es posible que gustes utilizar los datos del mercado de valores para obtener un indicador de cuándo comprar (`1`) o cuándo vender (`-1`). Este indicador es una etiqueta. Importa los datos de las acciones diarias de Google durante 23 días.\n"
   ]
  },
  {
   "cell_type": "code",
   "execution_count": null,
   "metadata": {},
   "outputs": [],
   "source": [
    "import pandas as pd\n",
    "import numpy as np\n",
    "url = 'http://apmonitor.com/che263/uploads/Main/goog.csv'\n",
    "data = pd.read_csv(url)\n",
    "data = data.drop(columns=['Adj Close'])\n",
    "data.head()"
   ]
  },
  {
   "cell_type": "markdown",
   "metadata": {},
   "source": [
    "Los atributos pueden ser cualquiera de las categorías que puedan ser útiles para predecir un cambio futuro en el precio de las acciones. La columna `Open`, la diferencia entre las columnas `High` y `Low` (`Volatility`), la diferencia entre las columnas `Close` y `Open` (`Change`) y la columna `Volume` son ejemplos de atributos. Con `.diff ()` se calcula la diferencia, y con `.fillna (0)` se reemplaza cualquier valor `NaN` por cero. Agrega cualquier otro atributo adicional que te gustaría considerar."
   ]
  },
  {
   "cell_type": "code",
   "execution_count": null,
   "metadata": {},
   "outputs": [],
   "source": [
    "features = ['Open','Volatility','Change','Volume']\n",
    "data['Volatility'] = (data['High']-data['Low']).diff()\n",
    "data['Change'] = (data['Close']-data['Open']).diff()\n",
    "# Algún otro atributo?\n",
    "data.head()"
   ]
  },
  {
   "cell_type": "markdown",
   "metadata": {},
   "source": [
    "Una etiqueta (resultado) para la clasificación es el signo (`+` o `-`) del precio de cierre de un día para otro. Con `np.roll (, -1)` se desplazan todos los valores una casilla hacia arriba para indicar el cambio respecto al día siguiente en esa misma fila. Con `np.sign ()` se obtiene el signo de la diferencia como un indicador de compra o venta, y `.dropna ()` elimina la última fila que es `NaN`."
   ]
  },
  {
   "cell_type": "code",
   "execution_count": null,
   "metadata": {},
   "outputs": [],
   "source": [
    "data['Close_diff'] = np.roll(data['Close'].diff(),-1)\n",
    "data=data.dropna()\n",
    "label = ['Buy/Sell']\n",
    "data['Buy/Sell'] = np.sign(data['Close_diff'])\n",
    "data.head()"
   ]
  },
  {
   "cell_type": "markdown",
   "metadata": {},
   "source": [
    "![power](https://apmonitor.com/che263/uploads/Begin_Python/power.png)\n",
    "\n",
    "### Seleccionar los Mejores Atributos\n",
    "\n",
    "Ahora que hemos creado varios atributos queremos seleccionar los mejores para predecir las etiquetas de salida. Hay varios métodos para evaluar cuántos atributos se necesitan (correlación) y cuáles son los mejores (selección). El primer paso es separar la entrada `X` y la salida` Y` mediante una escala de los datos (de `0` a` 1`)."
   ]
  },
  {
   "cell_type": "code",
   "execution_count": null,
   "metadata": {},
   "outputs": [],
   "source": [
    "data[features+label].head()"
   ]
  },
  {
   "cell_type": "code",
   "execution_count": null,
   "metadata": {},
   "outputs": [],
   "source": [
    "from sklearn.preprocessing import MinMaxScaler\n",
    "s = MinMaxScaler()\n",
    "ds = s.fit_transform(data[features+label])\n",
    "ds = pd.DataFrame(ds,columns=data[features+label].columns)\n",
    "X = ds[features]\n",
    "y = ds[label]\n",
    "ds.head()"
   ]
  },
  {
   "cell_type": "markdown",
   "metadata": {},
   "source": [
    "![idea](https://apmonitor.com/che263/uploads/Begin_Python/idea.png)\n",
    "\n",
    "#### Selección\n",
    "\n",
    "Existen pruebas estadísticas que muestran cuáles atributos mantienen una fuerte relación con la etiqueta de salida. Una herramienta es el método de scikit-learn `SelectKBest` que tiene pruebas estadísticas asociadas. Este método utiliza una prueba $ \\ chi ^ 2 $ para atributos no negativos y selecciona 10 de los mejores atributos para predecir la salida."
   ]
  },
  {
   "cell_type": "code",
   "execution_count": null,
   "metadata": {},
   "outputs": [],
   "source": [
    "from sklearn.feature_selection import SelectKBest\n",
    "from sklearn.feature_selection import chi2\n",
    "import matplotlib.pyplot as plt\n",
    "%matplotlib inline\n",
    "bestfeatures = SelectKBest(score_func=chi2, k='all')\n",
    "fit = bestfeatures.fit(X,y)\n",
    "dfscores = pd.DataFrame(fit.scores_)\n",
    "dfcolumns = pd.DataFrame(X.columns)\n",
    "scores = pd.concat([dfcolumns,dfscores],axis=1)\n",
    "scores.columns = ['Specs','Score']\n",
    "scores.index = features\n",
    "scores.plot(kind='bar')\n",
    "plt.show()"
   ]
  },
  {
   "cell_type": "markdown",
   "metadata": {},
   "source": [
    "![expert](https://apmonitor.com/che263/uploads/Begin_Python/expert.png)\n",
    "\n",
    "En base a esta información, elimina cualquier atributo que tenga puntuación baja con `.remove ()`."
   ]
  },
  {
   "cell_type": "code",
   "execution_count": null,
   "metadata": {},
   "outputs": [],
   "source": [
    "# Elimine cualquier atributo con puntuación baja usando features.remove('')\n",
    "print(features)"
   ]
  },
  {
   "cell_type": "markdown",
   "metadata": {},
   "source": [
    "![idea](https://apmonitor.com/che263/uploads/Begin_Python/idea.png)\n",
    "\n",
    "#### Importancia del Atributo\n",
    "\n",
    "Existe un método que utiliza un clasificador en base a árboles (Tree Based Classifier) que califica a cada atributo. Una calificación alta significa más importancia y relevancia en la predicción de la variable de salida. Los resultados cambian con cada análisis, debido a la naturaleza estocástica del cálculo. No obstante, la Volatilidad (`Volatility`) es un factor que normalmente puntúa entre los más altos."
   ]
  },
  {
   "cell_type": "code",
   "execution_count": null,
   "metadata": {},
   "outputs": [],
   "source": [
    "from sklearn.ensemble import ExtraTreesClassifier\n",
    "model = ExtraTreesClassifier(n_estimators=100)\n",
    "model.fit(X,np.ravel(y))\n",
    "\n",
    "feat_importances = pd.Series(model.feature_importances_, index=X.columns)\n",
    "feat_importances.nlargest(4).plot(kind='bar')\n",
    "plt.show()"
   ]
  },
  {
   "cell_type": "markdown",
   "metadata": {},
   "source": [
    "![idea](https://apmonitor.com/che263/uploads/Begin_Python/idea.png)\n",
    "\n",
    "#### Matriz de Correlación con Mapa de Calor\n",
    "\n",
    "La correlación nos muestra qué tanto se relacionan unos atributos con otros. Un valor elevado, ya sea positivo o negativo, indica que las variables están relacionadas. Si se tienen variables correlacionadas entonces puede eliminarse una de ellas, pues ambas proveen información similar. Un mapa de calor es una cuadrícula visual simétrica de la matriz de correlación. La diagonal siempre toma el valor de 1, pues cualquier variable se relaciona perfectamente consigo misma. En base al mapa de calor, determina qué variables están más relacionadas y podrían eliminarse."
   ]
  },
  {
   "cell_type": "code",
   "execution_count": null,
   "metadata": {},
   "outputs": [],
   "source": [
    "import seaborn as sns\n",
    "corrmat = ds.corr()\n",
    "top_features = corrmat.index\n",
    "plt.figure(figsize=(5,5))\n",
    "sns.heatmap(ds[top_features].corr(),annot=True,cmap=\"RdYlGn\") #\n",
    "b, t = plt.ylim(); plt.ylim(b+0.5, t-0.5) # soluciona el problema en matplotlib 3.1.1\n",
    "plt.show()"
   ]
  },
  {
   "cell_type": "markdown",
   "metadata": {},
   "source": [
    "![expert](https://apmonitor.com/che263/uploads/Begin_Python/expert.png)\n",
    "\n",
    "### Actividad con el TCLab\n",
    "\n",
    "![connections](https://apmonitor.com/che263/uploads/Begin_Python/connections.png)\n",
    "\n",
    "Considera cómo se podría determinar si el calentador del TCLab está encendido o apagado sin conocer el valor `Q1`. Probablemente mediríamos la temperatura `T1` y se observaría si la temperatura está subiendo o bajando. Sin embargo, simplemente observar la temperatura y la pendiente no es suficiente porque la temperatura continúa aumentando durante 10 a 20 segundos, después de que se apaga el calentador. Por tal motivo, debe calcular la segunda derivada de la temperatura para clasificar el estado del calentador como encendido o apagado. Una segunda derivada positiva es otra pista de que el calentador está encendido.\n",
    "\n",
    "![temperature](https://apmonitor.com/che263/uploads/Begin_Python/temperature.png)\n",
    "\n",
    "Ya sea que el calentador esté encendido o apagado (*resultado medido*), la temperatura y las derivadas son los *atributos*. Ejecuta el siguiente código para generar datos de temperatura con el calentador encendido al 100% o apagado al 0% en intervalos de 20 a 30 segundos durante 3 minutos."
   ]
  },
  {
   "cell_type": "code",
   "execution_count": null,
   "metadata": {},
   "outputs": [],
   "source": [
    "import tclab, time\n",
    "import numpy as np\n",
    "import pandas as pd\n",
    "try:\n",
    "    with tclab.TCLab() as lab:\n",
    "        n = 180; t = np.linspace(0,n-1,n)        \n",
    "        Q1 = np.zeros(n); T1 = np.zeros(n)\n",
    "        Q2 = np.zeros(n); T2 = np.zeros(n)        \n",
    "        Q1[20:41] = 100.0; Q1[60:91] = 100.0\n",
    "        Q1[150:181] = 100.0; Q1[190:206] = 100.0\n",
    "        Q1[220:251] = 100.0; Q1[260:291] = 100.0\n",
    "        print('Tiempo Q1 Q2 T1   T2')\n",
    "        for i in range(180):\n",
    "            T1[i] = lab.T1; T2[i] = lab.T2\n",
    "            lab.Q1(Q1[i])\n",
    "            if i%10==0:\n",
    "                print(int(t[i]),Q1[i],Q2[i],T1[i],T2[i])\n",
    "            time.sleep(1)\n",
    "    data = np.column_stack((t,Q1,Q2,T1,T2))\n",
    "    data7 = pd.DataFrame(data,columns=['Tiempo','Q1','Q2','T1','T2'])\n",
    "    data7.to_csv('07-tclab.csv',index=False)\n",
    "except:\n",
    "    print('Conecte el TCLab para generar nuevos datos')\n",
    "    print('Importando datos en línea')\n",
    "    url = 'http://apmonitor.com/do/uploads/Main/tclab_data5.txt'\n",
    "    data7 = pd.read_csv(url)"
   ]
  },
  {
   "cell_type": "markdown",
   "metadata": {},
   "source": [
    "### Crear Atributos\n",
    "\n",
    "Crea tres atributos a partir de los datos incluyendo la temperatura y sus derivadas.\n",
    "\n",
    "- Temperatura: $T_1$\n",
    "- Primera derivada de la temperatura: $\\frac{dT_1}{dt}$\n",
    "- Segunda derivada de la temperatura: $\\frac{d^2T_1}{dt^2}$\n",
    "\n",
    "Añade las derivadas como columnas en `data7`."
   ]
  },
  {
   "cell_type": "code",
   "execution_count": null,
   "metadata": {},
   "outputs": [],
   "source": []
  },
  {
   "cell_type": "markdown",
   "metadata": {},
   "source": [
    "### Escalar Datos\n",
    "\n",
    "Escala `data7` de forma que resulten valores entre `0` y `1` utilizando `d7 = s.fit_transform(data7)`. No olvides volver a traducir los valores escalados a un `pandas` DataFrame."
   ]
  },
  {
   "cell_type": "code",
   "execution_count": null,
   "metadata": {},
   "outputs": [],
   "source": []
  },
  {
   "cell_type": "markdown",
   "metadata": {},
   "source": [
    "### Calificar Atributos\n",
    "\n",
    "Utiliza `SelectKBest` para determinar los mejores atributos."
   ]
  },
  {
   "cell_type": "code",
   "execution_count": null,
   "metadata": {},
   "outputs": [],
   "source": []
  },
  {
   "cell_type": "markdown",
   "metadata": {},
   "source": [
    "### Correlacionar Atributos\n",
    "\n",
    "Genera un mapa de calor para determinar la correlación entre los atributos. "
   ]
  },
  {
   "cell_type": "code",
   "execution_count": null,
   "metadata": {},
   "outputs": [],
   "source": []
  }
 ],
 "metadata": {
  "kernelspec": {
   "display_name": "Python 3",
   "language": "python",
   "name": "python3"
  },
  "language_info": {
   "codemirror_mode": {
    "name": "ipython",
    "version": 3
   },
   "file_extension": ".py",
   "mimetype": "text/x-python",
   "name": "python",
   "nbconvert_exporter": "python",
   "pygments_lexer": "ipython3",
   "version": "3.7.6"
  }
 },
 "nbformat": 4,
 "nbformat_minor": 2
}
