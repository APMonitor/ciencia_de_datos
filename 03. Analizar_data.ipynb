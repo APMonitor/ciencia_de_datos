{
 "cells": [
  {
   "cell_type": "markdown",
   "metadata": {},
   "source": [
    "## 3. Análisis de Datos\n",
    "\n",
    "[Playlist de Ciencia de Datos en castellano](https://www.youtube.com/playlist?list=PLjyvn6Y1kpbEmRY4-ELeRA80ZywV7Xd67)\n",
    "[![Ciencia de Datos en Python](https://img1.wsimg.com/isteam/ip/aab852a2-7b1f-49c0-92af-9206f2ec6a75/4-0001.png/:/rs=w:1160,h:653)](https://www.youtube.com/watch?v=YlkNDdsxhgc&list=PLjyvn6Y1kpbEmRY4-ELeRA80ZywV7Xd67&index=4)\n",
    "\n",
    "Una vez que los datos se leen en Python, un primer paso es analizarlos con estadísticos de resumen (summary statistics). Esto es particularmente cierto si el conjunto de datos es grande. Los estadísticos de resumen incluyen el conteo, la media, la desviación estándar, el máximo, el mínimo y la información de cuartiles para las columnas de datos.\n",
    "\n",
    "![idea](https://apmonitor.com/che263/uploads/Begin_Python/idea.png)\n",
    "\n",
    "### Generar Datos\n",
    "\n",
    "Ejecuta la siguiente celda para:\n",
    "\n",
    "- Generar `n` valores espaciados linealmente entre `0` y `n-1` con `np.linspace(start,end,count)`\n",
    "- Selecciona muestras aleatorias de una distribución uniforme entre 0 y 1 con `np.random.rand(count)`\n",
    "- Selecciona muestras aleatorias de una distribución normal (gaussiana) con `np.random.normal(mean,std,count)`\n",
    "- Combinar `time`, `x`, e `y` con una columna vertical `np.vstack` y transponer `.T` para datos orientados a columnas.\n",
    "- Guardar un archivo de texto CSV `03-data.csv` con encabezado `time,x,y`."
   ]
  },
  {
   "cell_type": "code",
   "execution_count": null,
   "metadata": {},
   "outputs": [],
   "source": [
    "import numpy as np\n",
    "np.random.seed(0)\n",
    "n = 1000\n",
    "time = np.linspace(0,n-1,n)\n",
    "x = np.random.rand(n)\n",
    "y = np.random.normal(1,1,n)\n",
    "data = np.vstack((time,x,y)).T\n",
    "np.savetxt('03-data.csv',data,header='time,x,y',delimiter=',',comments='')"
   ]
  },
  {
   "cell_type": "markdown",
   "metadata": {},
   "source": [
    "![idea](https://apmonitor.com/che263/uploads/Begin_Python/idea.png)\n",
    "\n",
    "### Distribuciones de Datos\n",
    "\n",
    "El histograma es una vista previa de cómo crear gráficos para que los datos se puedan ser evaluados visualmente. [04. Visualización de datos](https://github.com/APMonitor/ciencia_de_datos/blob/main/04.%20Visualizar_data.ipynb) muestra cómo crear gráficos para el análisis de datos."
   ]
  },
  {
   "cell_type": "code",
   "execution_count": null,
   "metadata": {},
   "outputs": [],
   "source": [
    "import matplotlib.pyplot as plt\n",
    "%matplotlib inline\n",
    "plt.hist(x,10,label='x')\n",
    "plt.hist(y,60,label='y',alpha=0.7)\n",
    "plt.ylabel('Count'); plt.legend()\n",
    "plt.show()"
   ]
  },
  {
   "cell_type": "markdown",
   "metadata": {},
   "source": [
    "![idea](https://apmonitor.com/che263/uploads/Begin_Python/idea.png)\n",
    "\n",
    "### Análisis de Datos con `numpy`\n",
    "\n",
    "La función `np.loadtxt` lee el archivo de datos CSV `03-data.csv`. Numpy alcula con `size` las dimensiones, con `mean` el promedio, con `std` la desviación estándar, y con `median` la mediana a manera de estadísticos de resumen. Si no especificas el eje (`axis`) entonces `numpy` da una estadística en ambas filas (`axis=0`) y columnas (`axis=1`)."
   ]
  },
  {
   "cell_type": "code",
   "execution_count": null,
   "metadata": {},
   "outputs": [],
   "source": [
    "import numpy as np\n",
    "data = np.loadtxt('03-data.csv',delimiter=',',skiprows=1)\n",
    "\n",
    "print('Dimensión (filas,columnas):')\n",
    "print(np.size(data,0),np.size(data,1))\n",
    "\n",
    "print('Promedio:')\n",
    "print(np.mean(data,axis=0))\n",
    "\n",
    "print('Desviación Estándar:')\n",
    "print(np.std(data,0))\n",
    "\n",
    "print('Mediana:')\n",
    "print(np.median(data,0))"
   ]
  },
  {
   "cell_type": "markdown",
   "metadata": {},
   "source": [
    "![expert](https://apmonitor.com/che263/uploads/Begin_Python/expert.png)\n",
    "\n",
    "### Analizar datos\n",
    "\n",
    "1. Calcule la media, la desviación estándar y la mediana de `x*y`\n",
    "2. Calcule el sesgo o `skew` de `x*y` con `scipy.stats` [función de sesgo](https://docs.scipy.org/doc/scipy-0.15.1/reference/generated/scipy.stats.skew.html)."
   ]
  },
  {
   "cell_type": "code",
   "execution_count": null,
   "metadata": {},
   "outputs": [],
   "source": []
  },
  {
   "cell_type": "markdown",
   "metadata": {},
   "source": [
    "![idea](https://apmonitor.com/che263/uploads/Begin_Python/idea.png)\n",
    "\n",
    "### Análisis de Datos con `pandas`\n",
    "\n",
    "Pandas simplifica el análisis de datos con la función `.describe()` que es un método de`DataFrame` que se crea con `pd.read_csv()`. Ten en cuenta que el archivo de datos puede ser un nombre de archivo local o una dirección web como \n",
    "\n",
    "```python\n",
    "url='https://apmonitor.com/pdc/uploads/Main/tclab_data2.txt'\n",
    "data = pd.read_csv(url)\n",
    "data.describe()\n",
    "```"
   ]
  },
  {
   "cell_type": "code",
   "execution_count": null,
   "metadata": {},
   "outputs": [],
   "source": [
    "import pandas as pd\n",
    "data = pd.read_csv('03-data.csv')\n",
    "data.describe()"
   ]
  },
  {
   "cell_type": "markdown",
   "metadata": {},
   "source": [
    "![idea](https://apmonitor.com/che263/uploads/Begin_Python/idea.png)\n",
    "\n",
    "### Análisis de Datos con `pandas-profiling`\n",
    "\n",
    "Pandas Profiling es una herramienta de análisis de datos para un resumen más profundo de los datos que la función `descibe()`. [Instalar la librería](https://pandas-profiling.github.io/pandas-profiling/docs/master/rtd/pages/installation.html) con:\n",
    "\n",
    "```python\n",
    "pip install --user pandas-profiling[notebook]\n",
    "jupyter nbextension enable --py widgetsnbextension\n",
    "```\n",
    "\n",
    "Debes reiniciar el kernel antes de continuar. La instalación solo necesita ejecutarse una vez."
   ]
  },
  {
   "cell_type": "code",
   "execution_count": null,
   "metadata": {},
   "outputs": [],
   "source": [
    "try:\n",
    "    import pandas as pd\n",
    "    from pandas_profiling import ProfileReport\n",
    "    import os\n",
    "except:\n",
    "    !pip install --user pandas-profiling\n",
    "    !jupyter nbextension enable --py widgetsnbextension\n",
    "    print('Reinicia el kernel antes de continuar')\n",
    "    \n",
    "# import data\n",
    "url='https://apmonitor.com/pdc/uploads/Main/tclab_data2.txt'\n",
    "data = pd.read_csv(url)"
   ]
  },
  {
   "cell_type": "markdown",
   "metadata": {},
   "source": [
    "Después de instalar `pandas-profiling` y habilitar la extensión del widget, ahora puedes importar y analizar datos. Algunas funciones toman mucho tiempo con sets de datos grandes. Dos métodos para trabajar con sets de datos grandes se indican a continuación:\n",
    "\n",
    "1. Submuestrear los conjuntos de datos con `data = data[::10]` para tomar cada 10ma fila.\n",
    "2. Usar la opción `minimal` para evitar el análisis correlación y otros análisis que son lentos con sets de datos grandes."
   ]
  },
  {
   "cell_type": "code",
   "execution_count": null,
   "metadata": {},
   "outputs": [],
   "source": [
    "profile = ProfileReport(data, explorative=True, minimal=False)"
   ]
  },
  {
   "cell_type": "markdown",
   "metadata": {},
   "source": [
    "El informe de perfil se puede guardar como una página web interactiva. La página web se guarda en el directorio de trabajo actual que se muestra con `os.getcwd()`."
   ]
  },
  {
   "cell_type": "code",
   "execution_count": null,
   "metadata": {},
   "outputs": [],
   "source": [
    "profile.to_file('report.html')\n",
    "print('File report.html saved to '+os.getcwd())"
   ]
  },
  {
   "cell_type": "markdown",
   "metadata": {},
   "source": [
    "El informe de perfil también se puede ver en el Jupyter Notebook."
   ]
  },
  {
   "cell_type": "code",
   "execution_count": null,
   "metadata": {},
   "outputs": [],
   "source": [
    "profile.to_widgets()"
   ]
  },
  {
   "cell_type": "markdown",
   "metadata": {},
   "source": [
    "![expert](https://apmonitor.com/che263/uploads/Begin_Python/expert.png)\n",
    "\n",
    "### Actividad con el TCLab\n",
    "\n",
    "![connections](https://apmonitor.com/che263/uploads/Begin_Python/connections.png)\n",
    "\n",
    "### Generar el Set de Datos 1\n",
    "\n",
    "Genera un archivo a partir de los datos del TCLab en segundos (`t`), niveles de calentador (`Q1` y `Q2`), y temperaturas (`lab.T1` y `lab.T2`). Registra los datos cada segundo durante 120 segundos y cambia los niveles del calentador cada 30 segundos a un número aleatorio entre 0 y 80 con `np.random.randint()`. No es necesario cambiar el programa, solo ejecútalo durante 2 minutos para almacenar los datos. Si no cuentas con un dispositivo TCLab, lee el Archivo de Datos 1 de [este link online](https://apmonitor.com/do/uploads/Main/tclab_dyn_data2.txt)."
   ]
  },
  {
   "cell_type": "code",
   "execution_count": null,
   "metadata": {},
   "outputs": [],
   "source": [
    "import tclab, time, csv\n",
    "import pandas as pd\n",
    "import numpy as np\n",
    "try:\n",
    "    # conectar al TCLab si está disponible\n",
    "    n = 120 \n",
    "    with open('03-tclab1.csv',mode='w',newline='') as f:\n",
    "        cw = csv.writer(f)\n",
    "        cw.writerow(['Time','Q1','Q2','T1','T2'])\n",
    "        with tclab.TCLab() as lab:\n",
    "            print('t Q1 Q2 T1    T2')\n",
    "            for t in range(n):\n",
    "                if t%30==0:\n",
    "                    Q1 = np.random.randint(0,81)\n",
    "                    Q2 = np.random.randint(0,81)\n",
    "                    lab.Q1(Q1); lab.Q2(Q2)\n",
    "                cw.writerow([t,Q1,Q2,lab.T1,lab.T2])\n",
    "                if t%5==0:\n",
    "                    print(t,Q1,Q2,lab.T1,lab.T2)\n",
    "                time.sleep(2)\n",
    "    file = '03-tclab1.csv'\n",
    "    data1=pd.read_csv(file)\n",
    "except:\n",
    "    print('No se encontró ningún dispositivo TCLab, leyendo el archivo en línea')\n",
    "    url = 'http://apmonitor.com/do/uploads/Main/tclab_dyn_data2.txt'\n",
    "    data1=pd.read_csv(url)"
   ]
  },
  {
   "cell_type": "markdown",
   "metadata": {},
   "source": [
    "### Leer el Set de Datos 2\n",
    "\n",
    "Utiliza `requests` para descargar un archivo de datos del TCLab de muestra para el análisis. Se guarda como `03-tclab2.csv`."
   ]
  },
  {
   "cell_type": "code",
   "execution_count": null,
   "metadata": {},
   "outputs": [],
   "source": [
    "import requests\n",
    "import os\n",
    "url = 'http://apmonitor.com/pdc/uploads/Main/tclab_data2.txt'\n",
    "r = requests.get(url)\n",
    "with open('03-tclab2.csv', 'wb') as f:\n",
    "    f.write(r.content)\n",
    "    \n",
    "print('File 03-tclab2.csv recuperado al directorio de trabajo actual: ')\n",
    "print(os.getcwd())"
   ]
  },
  {
   "cell_type": "markdown",
   "metadata": {},
   "source": [
    "### Análisis de Datos\n",
    "\n",
    "Lee los archivos `03-tclab1.csv` y `03-tclab2.csv` y muestra los estadísticos de resumen para cada uno con `data.describe()`. Utiliza los estadísticos de resumen para comparar el número de muestras y las diferencias en el valor de desviación estándar y promedio para `T1` y `T2`."
   ]
  },
  {
   "cell_type": "code",
   "execution_count": null,
   "metadata": {},
   "outputs": [],
   "source": []
  },
  {
   "cell_type": "markdown",
   "metadata": {},
   "source": [
    "Utiliza la librería `pandas-profiling` para generar un informe de análisis de datos. Observa la distribución y correlación de las variables `Q1` y `T1`."
   ]
  },
  {
   "cell_type": "code",
   "execution_count": null,
   "metadata": {},
   "outputs": [],
   "source": []
  }
 ],
 "metadata": {
  "kernelspec": {
   "display_name": "Python 3",
   "language": "python",
   "name": "python3"
  },
  "language_info": {
   "codemirror_mode": {
    "name": "ipython",
    "version": 3
   },
   "file_extension": ".py",
   "mimetype": "text/x-python",
   "name": "python",
   "nbconvert_exporter": "python",
   "pygments_lexer": "ipython3",
   "version": "3.7.6"
  }
 },
 "nbformat": 4,
 "nbformat_minor": 2
}
