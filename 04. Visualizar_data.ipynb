{
 "cells": [
  {
   "cell_type": "markdown",
   "metadata": {},
   "source": [
    "## 4. Visualización de Datos\n",
    "\n",
    "[Playlist de Ciencia de Datos en castellano](https://www.youtube.com/playlist?list=PLjyvn6Y1kpbEmRY4-ELeRA80ZywV7Xd67)\n",
    "[![Ciencia de Datos en Python](https://img1.wsimg.com/isteam/ip/aab852a2-7b1f-49c0-92af-9206f2ec6a75/5-0001.png/:/rs=w:1160,h:653)](https://www.youtube.com/watch?v=w97CsaLuEvI&list=PLLBUgWXdTBDg1Qgmwt4jKtVn9BWh5-zgy \"Python Data Science\")\n",
    "\n",
    "Además de los estadísticos de resumen, la visualización de datos ayuda a comprender las características de los datos y cómo se relacionan las diferentes variables.\n",
    "\n",
    "![analyze](https://apmonitor.com/che263/uploads/Begin_Python/analyze.png)\n",
    "\n",
    "Hay muchos ejemplos de visualización de datos con [Matplotlib](https://matplotlib.org/gallery/index.html), [Seaborn](https://seaborn.pydata.org/examples/index.html), y [Plotly](https://plot.ly/python/). En este tutorial, revisamos algunos ejemplos para visualizar:\n",
    "\n",
    "- series de tiempo: línea\n",
    "- variables correlacionadas: dispersión, diagrama de pares\n",
    "- distribuciones de datos: barra, caja, violín, distribución, diagrama conjunto\n",
    "\n",
    "Cada gráfico se muestra con una de las librerías de gráficos. Matplotlib es una librería de nivel base de Python, Seaborn utiliza matplotlib y automatiza gráficos más complejos, y Plotly crea gráficos interactivos."
   ]
  },
  {
   "cell_type": "code",
   "execution_count": null,
   "metadata": {},
   "outputs": [],
   "source": [
    "import matplotlib.pyplot as plt\n",
    "%matplotlib inline\n",
    "import seaborn as sns\n",
    "import plotly.express as px"
   ]
  },
  {
   "cell_type": "markdown",
   "metadata": {},
   "source": [
    "![idea](https://apmonitor.com/che263/uploads/Begin_Python/idea.png)\n",
    "\n",
    "### Generar Datos\n",
    "\n",
    "Ejecuta la siguiente celda para:\n",
    "\n",
    "- Generar `n` valores espaciados linealmente entre `0` y `n-1` con `np.linspace(start,end,count)`\n",
    "- Selecciona muestras aleatorias de una distribución uniforme entre 0 y 1 con `np.random.rand(count)`\n",
    "- Selecciona muestras aleatorias de una distribución normal (gaussiana) con `np.random.normal(mean,std,count)`\n",
    "- Crea una serie de tiempo que cambie según `y[i]*0.1` manteniendose en el rango de `-3` a `3`\n",
    "- Combina `tt`, `x`, `y`, y `z` con una columna vertical `np.vstack` y transponer `.T` para datos orientados a columnas.\n",
    "- Crear una DataFrame pandas con columnas `tt`, `x`, `y`, y `z`"
   ]
  },
  {
   "cell_type": "code",
   "execution_count": null,
   "metadata": {},
   "outputs": [],
   "source": [
    "import numpy as np\n",
    "import pandas as pd\n",
    "np.random.seed(0) # cambiar \"seed\" para una respuesta diferente\n",
    "n = 1000\n",
    "tt = np.linspace(0,n-1,n)\n",
    "x = np.random.rand(n)+tt/500\n",
    "y = np.random.normal(0,x,n)\n",
    "z = [0]\n",
    "for i in range(1,n):\n",
    "    z.append(min(max(-3,z[i-1]+y[i]*0.1),3))\n",
    "data = pd.DataFrame(np.vstack((tt,x,y,z)).T,\\\n",
    "                    columns=['time','x','y','z'])\n",
    "data['w'] = '0-499'\n",
    "for i in range(int(n/2),n):\n",
    "    data.at[i,'w'] = '500-999'\n",
    "data.head()"
   ]
  },
  {
   "cell_type": "markdown",
   "metadata": {},
   "source": [
    "![idea](https://apmonitor.com/che263/uploads/Begin_Python/idea.png)\n",
    "\n",
    "### Gráfico\n",
    "\n",
    "El gráfico \"plot\" es el más básico. Hay un tutorial introductorio a gráficos en el [curso introductorio a Python en inglés, Lección 12](https://github.com/APMonitor/begin_python/blob/master/12.%20Plotting.ipynb). Visita este curso si necesitas más información sobre gráficos básicos como `plt.plot()`"
   ]
  },
  {
   "cell_type": "code",
   "execution_count": null,
   "metadata": {},
   "outputs": [],
   "source": [
    "plt.plot(tt,z)\n",
    "plt.show()"
   ]
  },
  {
   "cell_type": "markdown",
   "metadata": {},
   "source": [
    "La línea del gráfico puede ser cambiada y mejorada utilizando estilos seleccionados. A continuación se muestra un ejemplo con opciones comunes.\n",
    "\n",
    "**c=Colors** (Color)\n",
    "\n",
    "    =============    ===============================\n",
    "    Carácter         Color\n",
    "    =============    ===============================\n",
    "    ``'b'``          azul\n",
    "    ``'g'``          verde\n",
    "    ``'r'``          rojo\n",
    "    ``'y'``          amarillo\n",
    "    ``'k'``          negro\n",
    "    =============    ===============================\n",
    "\n",
    "**m=Markers** (Marca)\n",
    "\n",
    "    =============    ===============================\n",
    "    Carácter         Descripción\n",
    "    =============    ===============================\n",
    "    ``'.'``          punto\n",
    "    ``'o'``          círculo\n",
    "    ``'s'``          cuadrado\n",
    "    ``'^'``          triángulo\n",
    "    ``'*'``          estrella\n",
    "    =============    ===============================\n",
    "\n",
    "**ln=Line Styles** (Estilo de línea)\n",
    "\n",
    "    =============    ===============================\n",
    "    Carácter         Descripción\n",
    "    =============    ===============================\n",
    "    ``'-'``          línea contínua\n",
    "    ``'--'``         línea discontínua\n",
    "    ``'-.'``         línea de puntos y guiones\n",
    "    ``':'``          línea de puntos\n",
    "    =============    ==============================="
   ]
  },
  {
   "cell_type": "code",
   "execution_count": null,
   "metadata": {},
   "outputs": [],
   "source": [
    "plt.figure(1,figsize=(10,6))                         # ajustar el tamaño de la figura\n",
    "ax=plt.subplot(2,1,1)                                # sub-gráfico 1\n",
    "plt.plot(tt,z,'r-',linewidth=3,label='z')            # gráfico con línea roja\n",
    "ax.grid()                                            # agregar cuadrícula\n",
    "plt.ylabel('z'); plt.legend()                        # agregar ylabel (nombre en eje y), leyenda\n",
    "plt.subplot(2,1,2)                                   # sub-gráfico 2\n",
    "plt.plot(tt,x,'b.',label='x')                        # gráfico de puntos azules\n",
    "plt.plot(tt,y,color='orange',label='y',alpha=0.7)    # gráfico anaranjado\n",
    "plt.xlabel('time'); plt.legend()                      # leyenda\n",
    "plt.savefig('04-myFig.png',transparent=True,dpi=600) # guardar el gráfico\n",
    "plt.show()                                           # indicar el gráfico"
   ]
  },
  {
   "cell_type": "markdown",
   "metadata": {},
   "source": [
    "![expert](https://apmonitor.com/che263/uploads/Begin_Python/expert.png)\n",
    "\n",
    "### Actividad de Gráficos\n",
    "\n",
    "Crea una gráfica con los datos:\n",
    "\n",
    "```python\n",
    "xt = [0,0.1,0.2,0.3,0.5,0.8,1.0]\n",
    "yt = [1.0,2.1,3.5,6.5,7.2,5.9,6.3]\n",
    "```"
   ]
  },
  {
   "cell_type": "markdown",
   "metadata": {},
   "source": [
    "![idea](https://apmonitor.com/che263/uploads/Begin_Python/idea.png)\n",
    "\n",
    "### Gráfico de Dispersión\n",
    "\n",
    "Los gráficos de dispersión son similares a los gráficos regulares, pero muestran puntos individuales en lugar de valores conectados en serie. Matplotlib y Plotly se utilizan en este ejemplo. Matplotlib es rápido y sencillo mientras Plotly tiene características para gráficos interactivos!"
   ]
  },
  {
   "cell_type": "code",
   "execution_count": null,
   "metadata": {},
   "outputs": [],
   "source": [
    "# matplotlib\n",
    "plt.scatter(x,y)\n",
    "plt.show()"
   ]
  },
  {
   "cell_type": "code",
   "execution_count": null,
   "metadata": {},
   "outputs": [],
   "source": [
    "# plotly\n",
    "fig = px.scatter(data,x='x',y='y',color='w',size='x',hover_data=['w'])\n",
    "fig.show()"
   ]
  },
  {
   "cell_type": "markdown",
   "metadata": {},
   "source": [
    "![expert](https://apmonitor.com/che263/uploads/Begin_Python/expert.png)\n",
    "\n",
    "### Actividad con Gráfico de Dispersión\n",
    "\n",
    "Crear un gráfico de dispersión con `matplotlib` o `plotly` que ilustre `xt` combinado con `yt` y `zt`:\n",
    "\n",
    "```python\n",
    "xt = np.array([0,0.1,0.2,0.3,0.5,0.8,1.0])\n",
    "yt = np.array([1.0,2.1,3.5,6.5,7.2,5.9,6.3])\n",
    "zt = xt*yt\n",
    "```\n",
    "\n",
    "Cambia la forma de los puntos a un cuadrado para `yt` y un triángulo para `zt`. Agregua una etiqueta para indicar qué puntos son `yt` y `zt`."
   ]
  },
  {
   "cell_type": "code",
   "execution_count": null,
   "metadata": {},
   "outputs": [],
   "source": []
  },
  {
   "cell_type": "markdown",
   "metadata": {},
   "source": [
    "![idea](https://apmonitor.com/che263/uploads/Begin_Python/idea.png)\n",
    "\n",
    "### Gráfico de Barras\n",
    "\n",
    "Los gráficos de barras ilustran un histograma en un rango de intervalo. La opción `alpha` es la transparencia entre `0` y `1`. Un valor de `0.7` es un buen valor para mostrar los datos subyacentes y superpuestos."
   ]
  },
  {
   "cell_type": "code",
   "execution_count": null,
   "metadata": {},
   "outputs": [],
   "source": [
    "bins = np.linspace(-3,3,31)\n",
    "plt.hist(y,bins,label='y')\n",
    "plt.hist(z,bins,alpha=0.7,label='z')\n",
    "plt.legend()\n",
    "plt.show()"
   ]
  },
  {
   "cell_type": "markdown",
   "metadata": {},
   "source": [
    "![expert](https://apmonitor.com/che263/uploads/Begin_Python/expert.png)\n",
    "\n",
    "### Actividad con Gráfico de Barras\n",
    "\n",
    "Genera un diagrama de barras que muestre la distribución de `xt`, `yt`, y `zt`:\n",
    "\n",
    "```python\n",
    "nt = 1000\n",
    "xt = np.random.rand(nt)\n",
    "yt = np.random.normal(0,1,nt)\n",
    "zt = xt*yt\n",
    "```\n",
    "\n",
    "Utiliza `bins = np.linspace(-3,3,31)` para crear el histograma."
   ]
  },
  {
   "cell_type": "code",
   "execution_count": null,
   "metadata": {},
   "outputs": [],
   "source": []
  },
  {
   "cell_type": "markdown",
   "metadata": {},
   "source": [
    "![idea](https://apmonitor.com/che263/uploads/Begin_Python/idea.png)\n",
    "\n",
    "### Gráfico de Pares\n",
    "\n",
    "Un gráfico de pares o pair plot muestra la correlación entre variables. Tiene distribuciones en la diagonal y diagramas de dispersión en el resto de lugares. Un gráfico de pares también muestra un color diferente (`hue`) por categoría `w`. Los gráficos de pares muestran correlaciones entre pares de variables que pueden estar relacionadas y dan una buena indicación de las características (entradas explicativas) que se utilizan para clasificación o regresión."
   ]
  },
  {
   "cell_type": "code",
   "execution_count": null,
   "metadata": {},
   "outputs": [],
   "source": [
    "sns.pairplot(data[['x','y','z','w']],hue=('w'))\n",
    "plt.show()"
   ]
  },
  {
   "cell_type": "markdown",
   "metadata": {},
   "source": [
    "![expert](https://apmonitor.com/che263/uploads/Begin_Python/expert.png)\n",
    "\n",
    "### Actividad con Gráfico de Pares\n",
    "\n",
    "Crea un gráfico de pares que muestra la correlación entre `xt`, `yt`, y `zt` Entre los primeros 500 y segundos 500 valores aleatorios que están categorizados como `Dist`. Crea un DataFrame de `pandas` con:\n",
    "\n",
    "```python\n",
    "nt = 100\n",
    "xt = np.random.rand(nt)\n",
    "yt = np.random.normal(0,1,nt)\n",
    "zt = xt*yt\n",
    "dt = pd.DataFrame(np.column_stack([xt,yt,zt]),columns=['xt','yt','zt'])\n",
    "dt['Dist'] = 'First'\n",
    "for i in range(int(nt/2),nt):\n",
    "    dt.at[i,'Dist'] = 'Second'\n",
    "```"
   ]
  },
  {
   "cell_type": "code",
   "execution_count": null,
   "metadata": {},
   "outputs": [],
   "source": []
  },
  {
   "cell_type": "markdown",
   "metadata": {},
   "source": [
    "![idea](https://apmonitor.com/che263/uploads/Begin_Python/idea.png)\n",
    "\n",
    "### Diagrama de Caja\n",
    "\n",
    "Un diagrama de caja muestra los cuartiles de datos. En este caso, compararemos los primeros 500 puntos con los últimos 500 puntos."
   ]
  },
  {
   "cell_type": "code",
   "execution_count": null,
   "metadata": {},
   "outputs": [],
   "source": [
    "sns.boxplot(x='w',y='x',data=data)\n",
    "plt.show()"
   ]
  },
  {
   "cell_type": "markdown",
   "metadata": {},
   "source": [
    "![expert](https://apmonitor.com/che263/uploads/Begin_Python/expert.png)\n",
    "\n",
    "### Actividad con Diagrama de Caja\n",
    "\n",
    "Crea un diagrama de caja que muestre los cuartiles de `yt` por la primera y segunda serie como se indica en `Dist`."
   ]
  },
  {
   "cell_type": "code",
   "execution_count": null,
   "metadata": {},
   "outputs": [],
   "source": []
  },
  {
   "cell_type": "markdown",
   "metadata": {},
   "source": [
    "![idea](https://apmonitor.com/che263/uploads/Begin_Python/idea.png)\n",
    "\n",
    "### Diagrama de Violín\n",
    "\n",
    "Un diagrama de violín combina los cuartiles del diagrama de caja con la distribución."
   ]
  },
  {
   "cell_type": "code",
   "execution_count": null,
   "metadata": {},
   "outputs": [],
   "source": [
    "sns.violinplot(x='w',y='x',data=data,size=6)\n",
    "plt.show()"
   ]
  },
  {
   "cell_type": "markdown",
   "metadata": {},
   "source": [
    "![expert](https://apmonitor.com/che263/uploads/Begin_Python/expert.png)\n",
    "\n",
    "### Actividad con Diagrama de Violín\n",
    "\n",
    "Crea un diagrama de violín que muestre los cuartiles y la distribución de `zt` por primera y segunda serie como se indica en `Dist` en la DataFrame `dt`."
   ]
  },
  {
   "cell_type": "code",
   "execution_count": null,
   "metadata": {},
   "outputs": [],
   "source": []
  },
  {
   "cell_type": "markdown",
   "metadata": {},
   "source": [
    "![idea](https://apmonitor.com/che263/uploads/Begin_Python/idea.png)\n",
    "\n",
    "### Gráfico Conjunto\n",
    "\n",
    "Un gráfico conjunto muestra dos variables, con las distribuciones univariadas y conjuntas. Intenta `kind='reg'`, `'kde'`, y `'hex'` para ver diferentes estilos de gráficos conjuntos."
   ]
  },
  {
   "cell_type": "code",
   "execution_count": null,
   "metadata": {},
   "outputs": [],
   "source": [
    "sns.jointplot('x','z',data=data,kind=\"reg\") #hex, kde, reg\n",
    "plt.show()"
   ]
  },
  {
   "cell_type": "markdown",
   "metadata": {},
   "source": [
    "![expert](https://apmonitor.com/che263/uploads/Begin_Python/expert.png)\n",
    "\n",
    "### Actividad con Gráfico Conjunto\n",
    "\n",
    "Crea una gráfica conjunta que muestre la distribución conjunta de `yt` y `zt` en el DataFrame `dt`."
   ]
  },
  {
   "cell_type": "code",
   "execution_count": null,
   "metadata": {},
   "outputs": [],
   "source": []
  },
  {
   "cell_type": "markdown",
   "metadata": {},
   "source": [
    "### Actividad con el TCLab\n",
    "\n",
    "![expert](https://apmonitor.com/che263/uploads/Begin_Python/expert.png)"
   ]
  },
  {
   "cell_type": "markdown",
   "metadata": {},
   "source": [
    "### Generar o Recuperar Datos \n",
    "\n",
    "![connections](https://apmonitor.com/che263/uploads/Begin_Python/connections.png)\n",
    "\n",
    "Carga un archivo de datos de muestra si no cuentas con un TCLab. De lo contrario, genera un archivo a partir de los datos del TCLab con segundos (`t`), niveles de calentador (`Q1` y `Q2`), y temperaturas (`lab.T1` y `lab.T2`). Registra los datos cada segundo durante 120 segundos y cambia los niveles del calentador cada 30 segundos a un número aleatorio entre 0 y 80 con `np.random.randint()`. No es necesario cambiar este programa, solo ejecútalo para recolectar los datos durante 2 minutos."
   ]
  },
  {
   "cell_type": "code",
   "execution_count": null,
   "metadata": {},
   "outputs": [],
   "source": [
    "import tclab, time, csv\n",
    "import numpy as np\n",
    "try:\n",
    "    n = 120 \n",
    "    with open('04-tclab.csv',mode='w',newline='') as f:\n",
    "        cw = csv.writer(f)\n",
    "        cw.writerow(['Time','Q1','Q2','T1','T2'])\n",
    "        with tclab.TCLab() as lab:\n",
    "            print('t Q1 Q2 T1    T2')\n",
    "            for t in range(n):\n",
    "                if t%30==0:\n",
    "                    Q1 = np.random.randint(0,81)\n",
    "                    Q2 = np.random.randint(0,81)\n",
    "                    lab.Q1(Q1); lab.Q2(Q2)\n",
    "                cw.writerow([t,Q1,Q2,lab.T1,lab.T2])\n",
    "                if t%5==0:\n",
    "                    print(t,Q1,Q2,lab.T1,lab.T2)\n",
    "                time.sleep(1)\n",
    "    data4=pd.read_csv('04-tclab.csv')\n",
    "except:\n",
    "    print('Conectar al TCLab para generar datos')\n",
    "    url = 'http://apmonitor.com/do/uploads/Main/tclab_dyn_data2.txt'\n",
    "    data4=pd.read_csv(url)\n",
    "    data4.columns = ['Time','Q1','Q2','T1','T2']\n",
    "    \n",
    "data4.head()    "
   ]
  },
  {
   "cell_type": "markdown",
   "metadata": {},
   "source": [
    "### Análisis Gráfico\n",
    "\n",
    "Analizar `Q1`, `Q2`, `T1`, y `T2` gráficamente con un gráfico de series de tiempo y un gráfico de pares. La serie de tiempo debe mostrar `Q1` y `Q2` en la subgráfica superior, y `T1` y `T2` en la subgráfica inferior. El diagrama de pares debe ser un gráfico de cuadrícula `2x2` que muestra los pares calentador / temperatura como `Q1`/`T1`, `Q2`/`T2`."
   ]
  },
  {
   "cell_type": "code",
   "execution_count": null,
   "metadata": {},
   "outputs": [],
   "source": []
  }
 ],
 "metadata": {
  "kernelspec": {
   "display_name": "Python 3",
   "language": "python",
   "name": "python3"
  },
  "language_info": {
   "codemirror_mode": {
    "name": "ipython",
    "version": 3
   },
   "file_extension": ".py",
   "mimetype": "text/x-python",
   "name": "python",
   "nbconvert_exporter": "python",
   "pygments_lexer": "ipython3",
   "version": "3.7.6"
  }
 },
 "nbformat": 4,
 "nbformat_minor": 2
}
