{
 "cells": [
  {
   "cell_type": "markdown",
   "metadata": {},
   "source": [
    "Una vez finalizado el curso, por favor ayúdanos completando la siguiente **Encuesta de FINAL del curso**.\n",
    "\n",
    "[![Final](https://img1.wsimg.com/isteam/ip/aab852a2-7b1f-49c0-92af-9206f2ec6a75/Final.png/:/rs=w:1440,h:1440)](https://forms.office.com/Pages/ResponsePage.aspx?id=r4yvt9iDREaFrjF8VFIjwUHkKiCq1wxFstxAwkoFiilUOExRVkVMWlZERVcyWlpUU1EyTFg4T1Q3WC4u)\n",
    "\n",    
    "## 11. Ecuaciones Diferenciales\n",
    "\n",
    "[Playlist de Ciencia de Datos en castellano](https://www.youtube.com/playlist?list=PLjyvn6Y1kpbEmRY4-ELeRA80ZywV7Xd67)\n",
    "[![Ciencia de Datos en Python](https://img1.wsimg.com/isteam/ip/aab852a2-7b1f-49c0-92af-9206f2ec6a75/12-0001.png/:/rs=w:1160,h:653)](https://www.youtube.com/watch?v=HReAo38LoM4&list=PLLBUgWXdTBDg1Qgmwt4jKtVn9BWh5-zgy \"Python Data Science\")\n",
    "\n",
    "Algunas ecuaciones con términos diferenciales surgen de relaciones fundamentales como conservación de masa, energía y momento. Por ejemplo, la aculumación de masa $\\frac{dm}{dt}$ en un volumen de control es igual a la masa que entra $\\dot m_{in}$ menos la masa que sale $\\dot m_{out}$ de ese volumen.  \n",
    "\n",
    "$\\frac{dm}{dt} = \\dot m_{in} - \\dot m_{out}$\n",
    "\n",
    "Se puede desarrollar un modelo dinámico mediante regresión de datos o con relaciones fundamentales sin necesidad de datos. Incluso las relaciones fundamentales pueden tener parámetros desconocidos o inciertos. Un enfoque para el modelado dinámico es combinar relaciones físicas fundamentales con Ciencia de Datos. Este enfoque usa lo mejor de ambos métodos porque crea un modelo que se alinea con los valores medidos y puede extrapolarse a regiones donde los datos son limitados o inexistentes.        \n",
    "\n",
    "![exercise](https://apmonitor.com/che263/uploads/Begin_Python/exercise.png)\n",
    "\n",
    "En este primer ejercicio para [resolver ecuaciones diferenciales](https://www.youtube.com/watch?v=v9fGOHQMeIA) vamos a utilizar `odeint`. Los mismos ejemplos también serán [resueltos con Gekko](https://apmonitor.com/pdc/index.php/Main/PythonDifferentialEquations). Ambos alcanzan resultados equivalentes de simulación. Sin embargo, Gekko está diseñado para usar ecuaciones diferenciales en optimización o combinarse con aprendizaje automático (machine learning). La función `odeint` tiene como propósito principal resolver ecuaciones diferenciales ordinarias (EDO), y requiere tres entradas (inputs).\n",
    "\n",
    "    y = odeint(model, y0, t)\n",
    "\n",
    "1. `model` Nombre de la Función que devuelve la derivada para un par de valores solicitados `y`, `t`, de la forma `dydt = model(y,t)`.\n",
    "2. `y0` Condiciones iniciales.\n",
    "3. `t` Puntos de tiempo donde se reporta la solución. \n",
    "\n",
    "![idea](https://apmonitor.com/che263/uploads/Begin_Python/idea.png)\n",
    "\n",
    "### Resolver Ecuaciones  Diferenciales\n",
    "\n",
    "Resolveremos la ecuación diferencial con la condición inicial $y(0) = 5$:\n",
    "\n",
    "$ k \\, \\frac{dy}{dt} = -y$\n",
    "\n",
    "Donde $k=10$. La solución para `y` se reporta desde un tiempo inicial `0` hasta un tiempo final `20`. También se grafica el resultado para $y(t)$ vs. $t$. Notemos cómo se establece la ecuación para obtener la derivada como `dydt = -(1.0/k) * y` a partir de la función."
   ]
  },
  {
   "cell_type": "code",
   "execution_count": null,
   "metadata": {},
   "outputs": [],
   "source": [
    "import numpy as np\n",
    "from scipy.integrate import odeint\n",
    "\n",
    "# función que devuelve dy/dt\n",
    "def model(y,t):\n",
    "    k = 10.0\n",
    "    dydt = -(1.0/k) * y\n",
    "    return dydt\n",
    "\n",
    "y0 = 5                 # condición inicial\n",
    "t = np.linspace(0,20)  # puntos de tiempo\n",
    "y = odeint(model,y0,t) # resolución de la ODE\n",
    "\n",
    "import matplotlib.pyplot as plt\n",
    "%matplotlib inline\n",
    "plt.plot(t,y)\n",
    "plt.xlabel('Tiempo'); plt.ylabel('y(t)')\n",
    "\n",
    "plt.show()"
   ]
  },
  {
   "cell_type": "markdown",
   "metadata": {},
   "source": [
    "![gekko](https://apmonitor.com/che263/uploads/Begin_Python/gekko.png)\n",
    "\n",
    "### Resolver Ecuaciones Diferenciales con Gekko\n",
    "\n",
    "[Python Gekko](https://gekko.readthedocs.io/en/latest/) resuelve la misma ecuación diferencial. Está diseñado para problemas a gran escala. El [tutorial de Gekko en inglés](https://apmonitor.com/wiki/index.php/Main/GekkoPythonOptimization) nos muestra cómo resolver otro tipo de problemas con ecuaciones y optimización."
   ]
  },
  {
   "cell_type": "code",
   "execution_count": null,
   "metadata": {},
   "outputs": [],
   "source": [
    "from gekko import GEKKO\n",
    "\n",
    "m = GEKKO(remote=False)    # modelo GEKKO\n",
    "m.time = np.linspace(0,20) # puntos de tiempo\n",
    "y = m.Var(5.0); k = 10.0   # variables y constantes GEKKO\n",
    "m.Equation(k*y.dt()+y==0)  # Ecuación GEKKO\n",
    "\n",
    "m.options.IMODE = 4        # Simulación dinámica\n",
    "m.solve(disp=False)        # Resolución\n",
    "\n",
    "plt.plot(m.time,y)\n",
    "plt.xlabel('Tiempo'); plt.ylabel('y(t)')\n",
    "plt.show()"
   ]
  },
  {
   "cell_type": "markdown",
   "metadata": {},
   "source": [
    "![expert](https://apmonitor.com/che263/uploads/Begin_Python/expert.png)\n",
    "\n",
    "### Actividad sobre Ecuaciones Diferenciales\n",
    "\n",
    "Resuelve la ecuación diferencial con condición inicial $y(0) = 10$:\n",
    "\n",
    "$ k \\, \\frac{dy}{dt} = -y$\n",
    "\n",
    "Compara las primeras cinco soluciones de `y` entre los tiempos `0` y `20` con `k=[1,2,5,10,20]`."
   ]
  },
  {
   "cell_type": "code",
   "execution_count": null,
   "metadata": {},
   "outputs": [],
   "source": []
  },
  {
   "cell_type": "markdown",
   "metadata": {},
   "source": [
    "![idea](https://apmonitor.com/che263/uploads/Begin_Python/idea.png)\n",
    "\n",
    "### Solución Simbólica \n",
    "\n",
    "Los problemas con ecuaciones diferenciales que tienen solución analítica pueden expresarse simbólicamente. Una librería con símbolos matemáticos en Python es `sympy`. Sympy determina la solución analítica como $y(x)=C_1 \\, \\exp{\\left(-\\frac{x}{k}\\right)}$. Con la condición inicial $y(0)=5$, y la constante $C_1$ igual a 5."
   ]
  },
  {
   "cell_type": "code",
   "execution_count": null,
   "metadata": {},
   "outputs": [],
   "source": [
    "from IPython.display import display\n",
    "import sympy as sym\n",
    "from sympy.abc import x, k\n",
    "y = sym.Function('y')\n",
    "ans = sym.dsolve(sym.Derivative(y(x), x) + y(x)/k, y(x))\n",
    "display(ans)"
   ]
  },
  {
   "cell_type": "markdown",
   "metadata": {},
   "source": [
    "![idea](https://apmonitor.com/che263/uploads/Begin_Python/idea.png)\n",
    "\n",
    "### Resolver Ecuaciones Diferenciales con Entradas (Input) `u`\n",
    "\n",
    "Las ecuaciones diferenciales también pueden tener una entrada (atributo) que cambie desde una fuente externa (entrada exógena). Por ejemplo, cambios interactivos debido a medidas de un sensor, a personas (manualmente) o seleccionados por un computador.\n",
    "\n",
    "![expert](https://apmonitor.com/che263/uploads/Begin_Python/expert.png)\n",
    "\n",
    "Calcula la respuesta `y(t)` cuando la entrada `u` cambia desde `0` a `2` en `t = 5`.\n",
    "\n",
    "$2 \\frac{dy(t)}{dt} + y(t) = u(t)$\n",
    "\n",
    "La condición inicial es `y(0)=1` y la solución puede calcularse hasta `t=15`. **Ayuda**: La expresión `y(t)` no es equivalente a `y` multiplicado por `t`. Esta indica que `y` cambia con el tiempo y se escribe como una función del tiempo. Hay ejemplos adicionales para [odeint en inglés](https://apmonitor.com/pdc/index.php/Main/SolveDifferentialEquations) y [Gekko en inglés](https://apmonitor.com/pdc/index.php/Main/PythonDifferentialEquations) por si necesitas ayuda."
   ]
  },
  {
   "cell_type": "code",
   "execution_count": null,
   "metadata": {},
   "outputs": [],
   "source": []
  },
  {
   "cell_type": "markdown",
   "metadata": {},
   "source": [
    "### Actividad con el TCLab\n",
    "\n",
    "![expert](https://apmonitor.com/che263/uploads/Begin_Python/expert.png)\n",
    "\n",
    "### Recolección de Datos\n",
    "\n",
    "![connections](https://apmonitor.com/che263/uploads/Begin_Python/connections.png)\n",
    "\n",
    "Enciende el calentador 1 al 100% y guarda el valor de $T_1$ cada 5 segundos durante 3 minutos. Los datos deben incluir un total de 37 puntos para cada sensor de temperatura."
   ]
  },
  {
   "cell_type": "code",
   "execution_count": null,
   "metadata": {},
   "outputs": [],
   "source": [
    "import numpy as np\n",
    "import pandas as pd\n",
    "import tclab\n",
    "import time\n",
    "# Recolectar datos por 3 minutos, cada 5 segundos\n",
    "n = 37\n",
    "tm = np.linspace(0,180,n)\n",
    "t1s = np.empty(n); t2s = np.empty(n)\n",
    "with tclab.TCLab() as lab:\n",
    "    lab.Q1(100); lab.Q2(0)\n",
    "    print('Tiempo T1  T2')\n",
    "    for i in range(n):\n",
    "        t1s[i] = lab.T1; t2s[i] = lab.T2\n",
    "        print(tm[i],t1s[i],t2s[i])\n",
    "        time.sleep(5.0)\n",
    "# Colocar en un Dataframe\n",
    "data = pd.DataFrame(np.column_stack((tm,t1s,t2s)),\\\n",
    "                    columns=['Tiempo','T1','T2'])\n",
    "data.to_csv('11-data.csv',index=False)"
   ]
  },
  {
   "cell_type": "markdown",
   "metadata": {},
   "source": [
    "![expert](https://apmonitor.com/che263/uploads/Begin_Python/expert.png)\n",
    "\n",
    "### Resolver Ecuaciones Diferenciales\n",
    "\n",
    "Usa los parámetros `a`, `b` y `c` del módulo [10. Resolver Ecuaciones](https://github.com/APMonitor/data_science/blob/master/10.%20Solve_Equations.ipynb) o utiliza los siguientes valores:\n",
    "\n",
    "| Parámetro | Valor |\n",
    "|------|------|\n",
    "| a    | 78.6 |\n",
    "| b    | -50.3 |\n",
    "| c    | -0.003677 |\n",
    "\n",
    "Resuelve la ecuación diferencial ordinaria (ODE en inglés) con estos valores.\n",
    "\n",
    "$\\frac{dT_1}{dt} = c (T_1-a)$\n",
    "\n",
    "La condición inicial para $T_1$ es $a + b$. Muestra la solución para la ODE en el intervalo de tiempo desde `0` hasta `180` segundos. Grafica el valor medido de $T_1$ en la misma figura que muestra la predicción de la temperatura por la ODE. Añade las etiquetas necesarias en el gráfico."
   ]
  },
  {
   "cell_type": "code",
   "execution_count": null,
   "metadata": {},
   "outputs": [],
   "source": []
  }
 ],
 "metadata": {
  "kernelspec": {
   "display_name": "Python 3",
   "language": "python",
   "name": "python3"
  },
  "language_info": {
   "codemirror_mode": {
    "name": "ipython",
    "version": 3
   },
   "file_extension": ".py",
   "mimetype": "text/x-python",
   "name": "python",
   "nbconvert_exporter": "python",
   "pygments_lexer": "ipython3",
   "version": "3.7.6"
  }
 },
 "nbformat": 4,
 "nbformat_minor": 2
}
