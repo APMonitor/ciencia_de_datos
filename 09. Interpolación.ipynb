{
 "cells": [
  {
   "cell_type": "markdown",
   "metadata": {},
   "source": [
    "## 9. Interpolación\n",
    "\n",
    "[Playlist de Ciencia de Datos en castellano](https://www.youtube.com/playlist?list=PLjyvn6Y1kpbEmRY4-ELeRA80ZywV7Xd67)\n",
    "[![Ciencia de Datos en Python](https://img1.wsimg.com/isteam/ip/aab852a2-7b1f-49c0-92af-9206f2ec6a75/10-0001.png/:/rs=w:1280,h:720)](https://www.youtube.com/watch?v=w97CsaLuEvI&list=PLLBUgWXdTBDg1Qgmwt4jKtVn9BWh5-zgy \"Python Data Science\")\n",
    "\n",
    "La interpolación construye nuevos puntos de predicción a partir de un conjunto discreto de datos conocidos. Existen muchos tipos de interpolación, tales como interpolación por el vecino más próximo (constante por partes), lineal, polinomial, [splines cúbicos](https://apmonitor.com/wiki/index.php/Main/ObjectCspline), y [splines base](https://apmonitor.com/wiki/index.php/Main/ObjectBspline). En la interpolación, los datos proporcionan la forma de la función aproximada, con ecuaciones polinómicas por partes o de orden superior para coincidir exactamente con los puntos de datos en esas ubicaciones discretas dadas.\n",
    "\n",
    "![charge](https://apmonitor.com/che263/uploads/Begin_Python/charge.png)\n",
    "\n",
    "### Interpolación en 1D\n",
    "\n",
    "La librería `scipy.interpolate` contiene una función para interpolación unidimensional (`interp1d`), donde `kind` (tipo) es `nearest` (más cercano), `previous` (anterior), `next` (siguiente), `zero` (cero), `linear` (lineal), `quadratic` (cuadrático), `cubic` (cúbico), o un número como `0`-`3`."
   ]
  },
  {
   "cell_type": "code",
   "execution_count": null,
   "metadata": {},
   "outputs": [],
   "source": [
    "import numpy as np\n",
    "x = np.array([0,1,2,3,4,5])\n",
    "y = np.array([0.1,0.25,0.3,0.5,1.0,0.9])\n",
    "\n",
    "# Interpolación en 1D\n",
    "from scipy.interpolate import interp1d\n",
    "f = interp1d(x,y,kind='cubic')\n",
    "print(f(4.5)) # predice en 4.5"
   ]
  },
  {
   "cell_type": "markdown",
   "metadata": {},
   "source": [
    "![analyze](https://apmonitor.com/che263/uploads/Begin_Python/analyze.png)\n",
    "\n",
    "### Gráfica de Interpolación 1D\n",
    "\n",
    "Varias de las interpolaciones de 1D se muestran gráficamente. No olvides agregar puntos adicionales como `xp = np.linspace (0,5,100)` al trazar la interpolación o todo se verá como una interpolación lineal."
   ]
  },
  {
   "cell_type": "code",
   "execution_count": null,
   "metadata": {},
   "outputs": [],
   "source": [
    "xp = np.linspace(0,5,100)\n",
    "y1 = interp1d(x,y,kind='nearest')\n",
    "y2 = interp1d(x,y,kind=1)\n",
    "y3 = interp1d(x,y,kind=3)\n",
    "\n",
    "import matplotlib.pyplot as plt\n",
    "%matplotlib inline\n",
    "plt.plot(xp,y1(xp),'g-',label='Nearest')\n",
    "plt.plot(xp,y2(xp),'r--',label='Linear Interp')\n",
    "plt.plot(xp,y3(xp),'k:',label='Cubic Spline')\n",
    "plt.plot(x,y,'bo',label='Data')\n",
    "plt.legend()\n",
    "plt.show()"
   ]
  },
  {
   "cell_type": "markdown",
   "metadata": {},
   "source": [
    "Una precaución al obtener valores de una interpolación es que habrá un error como `ValueError: A value in x_new is above the interpolation range.` (\"Un valor en x_new está por encima del rango de interpolación\") si solicita un valor fuera de la región de interpolación como \"f (5.5)\"."
   ]
  },
  {
   "cell_type": "markdown",
   "metadata": {},
   "source": [
    "![expert](https://apmonitor.com/che263/uploads/Begin_Python/expert.png)\n",
    "\n",
    "### Actividad de Interpolación\n",
    "\n",
    "Crea una interpolación lineal con los siguientes datos:\n",
    "\n",
    "```python\n",
    "xr = [0.0,1.0,2.0,5.0]\n",
    "yr = [0.2,0.4,1.05,1.7]\n",
    "```\n",
    "\n",
    "Utiliza la interpolación para predecir valores en `xr=3.5`."
   ]
  },
  {
   "cell_type": "code",
   "execution_count": null,
   "metadata": {},
   "outputs": [],
   "source": []
  },
  {
   "cell_type": "markdown",
   "metadata": {},
   "source": [
    "![gekko](https://apmonitor.com/che263/uploads/Begin_Python/gekko.png)\n",
    "\n",
    "El tipo de `spline` es importante para determinadas aplicaciones, como optimización. Los `solvers` basados en gradientes tienen un mejor desempeño con funciones continuas que también tienen gradientes continuos. Por esta razón, puede ser preferible un `spline` cuadrático o cúbico a una interpolación lineal. El siguiente es un ejemplo de optimización con una `spline` cúbica en Gekko. La función original es $ \\frac{1}{1 + 25 \\, x ^ 2} $ con el objetivo de encontrar el máximo usando solo valores de función en `xr = [- 1.0 -0.8 -0.5 -0.25 -0.1 0.1 0.2 0.5 ] `.\n"
   ]
  },
  {
   "cell_type": "code",
   "execution_count": null,
   "metadata": {},
   "outputs": [],
   "source": [
    "from gekko import GEKKO\n",
    "import numpy as np\n",
    "import matplotlib.pyplot as plt\n",
    "\n",
    "# generar datos\n",
    "def f(x):\n",
    "    return 1.0/(1.0+25.0*x**2)\n",
    "xr = np.array([-1.0,-0.8,-0.5,-0.25,-0.1,0.1,0.2,0.5])\n",
    "yr = f(xr)\n",
    "\n",
    "# crear spline cúbica y maximizar\n",
    "c = GEKKO(remote=False)\n",
    "xg = c.Var(); yg = c.Var()\n",
    "c.cspline(xg,yg,xr,yr,True)\n",
    "c.Maximize(yg)\n",
    "c.solve(disp=False)\n",
    "\n",
    "xp = np.linspace(-1,0.5,100)\n",
    "plt.plot(xp,f(xp),'b-',label=r'$f(x) = \\frac{1}{1+25x^2}$')\n",
    "plt.plot(xr,yr,'ro',label='Data')\n",
    "plt.plot(xg.value[0],yg.value[0],'kx',label='C-spline Maximum')\n",
    "plt.legend(loc='best')\n",
    "plt.show()"
   ]
  },
  {
   "cell_type": "markdown",
   "metadata": {},
   "source": [
    "![expert](https://apmonitor.com/che263/uploads/Begin_Python/expert.png)\n",
    "\n",
    "### Actividad de `Spline` Cúbico\n",
    "\n",
    "Crea un `Spline` Cúbico con los siguientes datos:\n",
    "\n",
    "```python\n",
    "xr = [0.0,1.0,2.0,3.0,4.0,5.0]\n",
    "yr = [46.0,6.6,0.13,0.026,3.84,33.0]\n",
    "```\n",
    "\n",
    "Construye un `spline` cúbico y encuentra el valor mínimo de la función."
   ]
  },
  {
   "cell_type": "code",
   "execution_count": null,
   "metadata": {},
   "outputs": [],
   "source": []
  },
  {
   "cell_type": "markdown",
   "metadata": {},
   "source": [
    "![idea](https://apmonitor.com/che263/uploads/Begin_Python/idea.png)\n",
    "\n",
    "### Interpolación en 2D\n",
    "\n",
    "También existe una función para interpolación bidimensional (`interp2d`) donde se puede establecer su tipo o `kind` como `linear` o `cubic`."
   ]
  },
  {
   "cell_type": "code",
   "execution_count": null,
   "metadata": {},
   "outputs": [],
   "source": [
    "# Interpolación 2D\n",
    "from scipy.interpolate import interp2d\n",
    "x2 = np.arange(-1.5, 1.01, 0.5)\n",
    "y2 = np.arange(-1.5, 1.01, 0.5)\n",
    "xx, yy = np.meshgrid(x2, y2)\n",
    "zz = np.sin(xx**2+yy**2)\n",
    "f2 = interp2d(x2, y2, zz, kind='cubic')\n",
    "print(f2(4.5,1)) # predice z en (x=4.5, y=1)"
   ]
  },
  {
   "cell_type": "markdown",
   "metadata": {},
   "source": [
    "![analyze](https://apmonitor.com/che263/uploads/Begin_Python/analyze.png)\n",
    "\n",
    "### Gráfica de Interpolación 3D\n",
    "\n",
    "Un gráfico 3D muestra los puntos de datos en \"rojo\" (red) y la interpolación cúbica en \"azul\" (blue). El gráfico incluye un gráfico de dispersión 3D para los datos y un gráfico de superficie para la `spline` cúbica."
   ]
  },
  {
   "cell_type": "code",
   "execution_count": null,
   "metadata": {},
   "outputs": [],
   "source": [
    "from mpl_toolkits.mplot3d import Axes3D\n",
    "fig = plt.figure(figsize=(8,5))\n",
    "ax = fig.add_subplot(111, projection='3d')\n",
    "ax.scatter(xx,yy,zz,color='red',label='Data')\n",
    "xe = np.arange(-1.5, 1.01, 0.1)\n",
    "ye = np.arange(-1.5, 1.01, 0.1)\n",
    "xxe, yye = np.meshgrid(xe, ye)\n",
    "fe = np.empty_like(xxe)\n",
    "for i in range(np.size(fe,0)):\n",
    "    for j in range(np.size(fe,1)):\n",
    "        fe[i,j] = f2(xxe[i,j],yye[i,j])\n",
    "ax.plot_surface(xxe,yye,fe,color='blue',alpha=0.7)\n",
    "plt.legend()\n",
    "plt.show()"
   ]
  },
  {
   "cell_type": "markdown",
   "metadata": {},
   "source": [
    "![expert](https://apmonitor.com/che263/uploads/Begin_Python/expert.png)\n",
    "\n",
    "### Actividad con el TCLab\n",
    "\n",
    "![temperature](https://apmonitor.com/che263/uploads/Begin_Python/temperature.png)\n",
    "\n",
    "### Registrar Temperaturas\n",
    "\n",
    "Enciende el calentador de 1% a 100% y registra $T_1$ y $T_2$ cada 10 segundos durante 3 minutos. Los datos deben incluir un total de 19 puntos de datos para cada sensor de temperatura y el tiempo de registro, comenzando desde cero.\n",
    "\n",
    "![connections](https://apmonitor.com/che263/uploads/Begin_Python/connections.png)"
   ]
  },
  {
   "cell_type": "code",
   "execution_count": null,
   "metadata": {},
   "outputs": [],
   "source": []
  },
  {
   "cell_type": "markdown",
   "metadata": {},
   "source": [
    "![expert](https://apmonitor.com/che263/uploads/Begin_Python/expert.png)\n",
    "\n",
    "### Interpolación\n",
    "\n",
    "Crea una función de interpolación entre los puntos medidos para $T_1$ utilizando una interpolación lineal. Muestra los $T_1$ registrados como puntos rojos y la interpolación lineal como una línea negra. Agrega etiquetas X y etiquetas Y, así como una leyenda del gráfico."
   ]
  },
  {
   "cell_type": "code",
   "execution_count": null,
   "metadata": {},
   "outputs": [],
   "source": []
  },
  {
   "cell_type": "markdown",
   "metadata": {},
   "source": [
    "![expert](https://apmonitor.com/che263/uploads/Begin_Python/expert.png)\n",
    "\n",
    "### Interpolación vs. Regresión\n",
    "\n",
    "Crea una función de interpolación entre los puntos medidos para $T_2$ usando un `spline` cúbico. Compara el `spline` cúbico por partes con una regresión polinomial de tercer orden. Muestra los $T_2$ registrados como puntos azules, la interpolación `spline` cúbica como una línea discontinua negra y la regresión polinomial como una línea punteada roja. Agrega las etiquetas apropiadas."
   ]
  },
  {
   "cell_type": "code",
   "execution_count": null,
   "metadata": {},
   "outputs": [],
   "source": []
  }
 ],
 "metadata": {
  "kernelspec": {
   "display_name": "Python 3",
   "language": "python",
   "name": "python3"
  },
  "language_info": {
   "codemirror_mode": {
    "name": "ipython",
    "version": 3
   },
   "file_extension": ".py",
   "mimetype": "text/x-python",
   "name": "python",
   "nbconvert_exporter": "python",
   "pygments_lexer": "ipython3",
   "version": "3.7.6"
  }
 },
 "nbformat": 4,
 "nbformat_minor": 2
}
